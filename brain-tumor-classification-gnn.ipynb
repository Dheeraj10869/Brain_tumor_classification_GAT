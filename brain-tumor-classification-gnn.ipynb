{
 "cells": [
  {
   "cell_type": "code",
   "execution_count": 1,
   "id": "28cf013d",
   "metadata": {
    "execution": {
     "iopub.execute_input": "2024-05-13T16:14:03.121652Z",
     "iopub.status.busy": "2024-05-13T16:14:03.120737Z",
     "iopub.status.idle": "2024-05-13T16:14:03.127612Z",
     "shell.execute_reply": "2024-05-13T16:14:03.126588Z"
    },
    "papermill": {
     "duration": 0.034181,
     "end_time": "2024-05-13T16:14:03.130082",
     "exception": false,
     "start_time": "2024-05-13T16:14:03.095901",
     "status": "completed"
    },
    "tags": []
   },
   "outputs": [],
   "source": [
    "# !python --version"
   ]
  },
  {
   "cell_type": "code",
   "execution_count": 2,
   "id": "2e566749",
   "metadata": {
    "_kg_hide-input": false,
    "_kg_hide-output": true,
    "execution": {
     "iopub.execute_input": "2024-05-13T16:14:03.169671Z",
     "iopub.status.busy": "2024-05-13T16:14:03.169412Z",
     "iopub.status.idle": "2024-05-13T16:14:12.210453Z",
     "shell.execute_reply": "2024-05-13T16:14:12.209035Z"
    },
    "papermill": {
     "duration": 9.063657,
     "end_time": "2024-05-13T16:14:12.213059",
     "exception": false,
     "start_time": "2024-05-13T16:14:03.149402",
     "status": "completed"
    },
    "tags": []
   },
   "outputs": [
    {
     "name": "stdout",
     "output_type": "stream",
     "text": [
      "Installing /kaggle/input/pyg-cp37-pt111/torch_cluster-1.6.0-cp37-cp37m-linux_x86_64.whl\n",
      "Processing /kaggle/input/pyg-cp37-pt111/torch_cluster-1.6.0-cp37-cp37m-linux_x86_64.whl\n",
      "Installing collected packages: torch-cluster\n",
      "Successfully installed torch-cluster-1.6.0\n"
     ]
    },
    {
     "name": "stderr",
     "output_type": "stream",
     "text": [
      "WARNING: Running pip as the 'root' user can result in broken permissions and conflicting behaviour with the system package manager. It is recommended to use a virtual environment instead: https://pip.pypa.io/warnings/venv\n"
     ]
    },
    {
     "name": "stdout",
     "output_type": "stream",
     "text": [
      "Installing /kaggle/input/pyg-cp37-pt111/torch_scatter-2.1.0-cp37-cp37m-linux_x86_64.whl\n",
      "Processing /kaggle/input/pyg-cp37-pt111/torch_scatter-2.1.0-cp37-cp37m-linux_x86_64.whl\n",
      "Installing collected packages: torch-scatter\n",
      "Successfully installed torch-scatter-2.1.0\n",
      "Installing /kaggle/input/pyg-cp37-pt111/torch_sparse-0.6.16-cp37-cp37m-linux_x86_64.whl\n"
     ]
    },
    {
     "name": "stderr",
     "output_type": "stream",
     "text": [
      "WARNING: Running pip as the 'root' user can result in broken permissions and conflicting behaviour with the system package manager. It is recommended to use a virtual environment instead: https://pip.pypa.io/warnings/venv\n"
     ]
    },
    {
     "name": "stdout",
     "output_type": "stream",
     "text": [
      "Processing /kaggle/input/pyg-cp37-pt111/torch_sparse-0.6.16-cp37-cp37m-linux_x86_64.whl\n",
      "Installing collected packages: torch-sparse\n",
      "Successfully installed torch-sparse-0.6.16\n",
      "Installing /kaggle/input/pyg-cp37-pt111/torch_spline_conv-1.2.1-cp37-cp37m-linux_x86_64.whl\n"
     ]
    },
    {
     "name": "stderr",
     "output_type": "stream",
     "text": [
      "WARNING: Running pip as the 'root' user can result in broken permissions and conflicting behaviour with the system package manager. It is recommended to use a virtual environment instead: https://pip.pypa.io/warnings/venv\n"
     ]
    },
    {
     "name": "stdout",
     "output_type": "stream",
     "text": [
      "Processing /kaggle/input/pyg-cp37-pt111/torch_spline_conv-1.2.1-cp37-cp37m-linux_x86_64.whl\n",
      "Installing collected packages: torch-spline-conv\n",
      "Successfully installed torch-spline-conv-1.2.1\n",
      "Installing /kaggle/input/pyg-cp37-pt111/torch_geometric-2.2.0-py3-none-any.whl\n"
     ]
    },
    {
     "name": "stderr",
     "output_type": "stream",
     "text": [
      "WARNING: Running pip as the 'root' user can result in broken permissions and conflicting behaviour with the system package manager. It is recommended to use a virtual environment instead: https://pip.pypa.io/warnings/venv\n"
     ]
    },
    {
     "name": "stdout",
     "output_type": "stream",
     "text": [
      "Processing /kaggle/input/pyg-cp37-pt111/torch_geometric-2.2.0-py3-none-any.whl\n",
      "Installing collected packages: torch-geometric\n",
      "Successfully installed torch-geometric-2.2.0\n",
      "Installing /kaggle/input/pyg-cp37-pt111/ruamel.yaml-0.17.21-py3-none-any.whl\n"
     ]
    },
    {
     "name": "stderr",
     "output_type": "stream",
     "text": [
      "WARNING: Running pip as the 'root' user can result in broken permissions and conflicting behaviour with the system package manager. It is recommended to use a virtual environment instead: https://pip.pypa.io/warnings/venv\n"
     ]
    },
    {
     "name": "stdout",
     "output_type": "stream",
     "text": [
      "Processing /kaggle/input/pyg-cp37-pt111/ruamel.yaml-0.17.21-py3-none-any.whl\n",
      "Installing collected packages: ruamel.yaml\n",
      "Successfully installed ruamel.yaml-0.17.21\n"
     ]
    },
    {
     "name": "stderr",
     "output_type": "stream",
     "text": [
      "WARNING: Running pip as the 'root' user can result in broken permissions and conflicting behaviour with the system package manager. It is recommended to use a virtual environment instead: https://pip.pypa.io/warnings/venv\n"
     ]
    }
   ],
   "source": [
    "import subprocess\n",
    "whls = [\n",
    "    \"/kaggle/input/pyg-cp37-pt111/torch_cluster-1.6.0-cp37-cp37m-linux_x86_64.whl\",\n",
    "    \"/kaggle/input/pyg-cp37-pt111/torch_scatter-2.1.0-cp37-cp37m-linux_x86_64.whl\",\n",
    "    \"/kaggle/input/pyg-cp37-pt111/torch_sparse-0.6.16-cp37-cp37m-linux_x86_64.whl\",\n",
    "    \"/kaggle/input/pyg-cp37-pt111/torch_spline_conv-1.2.1-cp37-cp37m-linux_x86_64.whl\",\n",
    "    \"/kaggle/input/pyg-cp37-pt111/torch_geometric-2.2.0-py3-none-any.whl\",\n",
    "    \"/kaggle/input/pyg-cp37-pt111/ruamel.yaml-0.17.21-py3-none-any.whl\",\n",
    "]\n",
    "for w in whls:\n",
    "    print(\"Installing\", w)\n",
    "    subprocess.call([\"pip\", \"install\", w, \"--no-deps\", \"--upgrade\"])"
   ]
  },
  {
   "cell_type": "code",
   "execution_count": 3,
   "id": "986bbc8e",
   "metadata": {
    "execution": {
     "iopub.execute_input": "2024-05-13T16:14:12.256812Z",
     "iopub.status.busy": "2024-05-13T16:14:12.256005Z",
     "iopub.status.idle": "2024-05-13T16:14:19.173849Z",
     "shell.execute_reply": "2024-05-13T16:14:19.172914Z"
    },
    "papermill": {
     "duration": 6.94221,
     "end_time": "2024-05-13T16:14:19.176383",
     "exception": false,
     "start_time": "2024-05-13T16:14:12.234173",
     "status": "completed"
    },
    "tags": []
   },
   "outputs": [],
   "source": [
    "import torch\n",
    "import torch.utils.data as data_utils\n",
    "import torch_geometric\n",
    "import matplotlib.pyplot as plt\n",
    "from torch.utils.data import DataLoader\n",
    "import torch\n",
    "import torchvision.transforms as transforms\n",
    "from torch.utils.data import DataLoader\n",
    "import torch.nn as nn\n",
    "import torch.optim\n",
    "import torch_geometric\n",
    "from torch_geometric.data import Data\n",
    "from torch_geometric.nn import GCNConv\n",
    "from torch_geometric.nn import GATConv\n",
    "\n",
    "import torch.nn.functional as F\n",
    "import torchvision\n",
    "from torchvision import datasets, models, transforms\n",
    "import tqdm\n",
    "from IPython import display\n",
    "from types import MethodType\n",
    "import numpy as np\n",
    "from sklearn.metrics import roc_curve, auc\n",
    "from sklearn.preprocessing import label_binarize\n",
    "import networkx as nx\n",
    "import torchvision.models as models\n",
    "from sklearn.metrics import confusion_matrix, classification_report\n",
    "import seaborn as sns\n",
    "from torch.cuda.amp import autocast\n",
    "from tabulate import tabulate\n",
    "from skimage.segmentation import slic\n",
    "from skimage.segmentation import slic, mark_boundaries\n"
   ]
  },
  {
   "cell_type": "code",
   "execution_count": 4,
   "id": "14b7e757",
   "metadata": {
    "execution": {
     "iopub.execute_input": "2024-05-13T16:14:19.219382Z",
     "iopub.status.busy": "2024-05-13T16:14:19.218778Z",
     "iopub.status.idle": "2024-05-13T16:14:19.226716Z",
     "shell.execute_reply": "2024-05-13T16:14:19.225707Z"
    },
    "papermill": {
     "duration": 0.031669,
     "end_time": "2024-05-13T16:14:19.228916",
     "exception": false,
     "start_time": "2024-05-13T16:14:19.197247",
     "status": "completed"
    },
    "tags": []
   },
   "outputs": [],
   "source": [
    "transforms = torchvision.transforms\n",
    "data_transform = {\n",
    "    \"train\": transforms.Compose([\n",
    "                                 transforms.RandomResizedCrop(224),\n",
    "                                    transforms.Resize((224, 224)),\n",
    "                                 transforms.RandomHorizontalFlip(),\n",
    "                                     transforms.ToTensor(),\n",
    "                                 transforms.Normalize((0.5, 0.5, 0.5), (0.5, 0.5, 0.5))\n",
    "                                ]),\n",
    "    \"tes\": transforms.Compose([\n",
    "                               transforms.Resize((224, 224)),\n",
    "                               transforms.RandomHorizontalFlip(),\n",
    "                               transforms.ToTensor(),\n",
    "                               transforms.Normalize((0.5, 0.5, 0.5), (0.5, 0.5, 0.5))\n",
    "    ])}        \n"
   ]
  },
  {
   "cell_type": "code",
   "execution_count": 5,
   "id": "d2a1cc66",
   "metadata": {
    "execution": {
     "iopub.execute_input": "2024-05-13T16:14:19.271627Z",
     "iopub.status.busy": "2024-05-13T16:14:19.270888Z",
     "iopub.status.idle": "2024-05-13T16:14:19.910765Z",
     "shell.execute_reply": "2024-05-13T16:14:19.909988Z"
    },
    "papermill": {
     "duration": 0.663718,
     "end_time": "2024-05-13T16:14:19.913299",
     "exception": false,
     "start_time": "2024-05-13T16:14:19.249581",
     "status": "completed"
    },
    "tags": []
   },
   "outputs": [],
   "source": [
    "train_dataset = torchvision.datasets.ImageFolder(\"/kaggle/input/brain-tumor-classification-mri/Training\", transform=data_transform[\"train\"])\n",
    "train_loader = DataLoader(train_dataset, batch_size=32, shuffle=True)\n",
    "test_dataset = torchvision.datasets.ImageFolder(\"/kaggle/input/brain-tumor-classification-mri/Testing\", transform=data_transform[\"tes\"])\n",
    "test_loader = DataLoader(test_dataset, batch_size=32, shuffle=False)"
   ]
  },
  {
   "cell_type": "code",
   "execution_count": 6,
   "id": "ee6cc215",
   "metadata": {
    "execution": {
     "iopub.execute_input": "2024-05-13T16:14:19.955819Z",
     "iopub.status.busy": "2024-05-13T16:14:19.955503Z",
     "iopub.status.idle": "2024-05-13T16:14:20.400786Z",
     "shell.execute_reply": "2024-05-13T16:14:20.399798Z"
    },
    "papermill": {
     "duration": 0.470652,
     "end_time": "2024-05-13T16:14:20.404731",
     "exception": false,
     "start_time": "2024-05-13T16:14:19.934079",
     "status": "completed"
    },
    "tags": []
   },
   "outputs": [
    {
     "data": {
      "image/png": "[encoded data removed]",
      "text/plain": [
       "<Figure size 864x360 with 5 Axes>"
      ]
     },
     "metadata": {
      "needs_background": "light"
     },
     "output_type": "display_data"
    }
   ],
   "source": [
    "def display_dataset_samples(dataset, num_samples=4):\n",
    "    # Display some random samples from the dataset\n",
    "    indices = torch.randint(0, len(dataset), (num_samples,))\n",
    "    sample_loader = DataLoader(dataset, batch_size=num_samples, sampler=torch.utils.data.sampler.SubsetRandomSampler(indices))\n",
    "\n",
    "    for images, labels in sample_loader:\n",
    "        plt.figure(figsize=(12, 5))\n",
    "        for i in range(num_samples):\n",
    "            plt.subplot(1, num_samples, i + 1)\n",
    "            plt.imshow(transforms.ToPILImage()(images[i]))\n",
    "            plt.title(f' {dataset.classes[labels[i].item()]}')  # Use dataset.classes to get the label name\n",
    "            plt.axis('off')\n",
    "        plt.show()\n",
    "        break\n",
    "\n",
    "display_dataset_samples(train_dataset, num_samples=5)\n"
   ]
  },
  {
   "cell_type": "code",
   "execution_count": 7,
   "id": "02e7bf9e",
   "metadata": {
    "execution": {
     "iopub.execute_input": "2024-05-13T16:14:20.451070Z",
     "iopub.status.busy": "2024-05-13T16:14:20.450209Z",
     "iopub.status.idle": "2024-05-13T16:14:49.713459Z",
     "shell.execute_reply": "2024-05-13T16:14:49.712550Z"
    },
    "papermill": {
     "duration": 29.289341,
     "end_time": "2024-05-13T16:14:49.716503",
     "exception": false,
     "start_time": "2024-05-13T16:14:20.427162",
     "status": "completed"
    },
    "tags": []
   },
   "outputs": [
    {
     "name": "stdout",
     "output_type": "stream",
     "text": [
      "Classes:  ['glioma_tumor', 'meningioma_tumor', 'no_tumor', 'pituitary_tumor']\n"
     ]
    },
    {
     "data": {
      "image/png": "[encoded data removed]",
      "text/plain": [
       "<Figure size 720x432 with 1 Axes>"
      ]
     },
     "metadata": {
      "needs_background": "light"
     },
     "output_type": "display_data"
    },
    {
     "name": "stdout",
     "output_type": "stream",
     "text": [
      "Number of Training Data points:  2870\n",
      "Number of Testing Data points:  394\n"
     ]
    }
   ],
   "source": [
    "def plot_category_distribution(train_dataset, test_dataset):\n",
    "    # Get the class names/categories from the dataset\n",
    "    classes = train_dataset.classes\n",
    "    print(\"Classes: \", classes)\n",
    "\n",
    "    # Count occurrences of each category in the training dataset\n",
    "    train_counts = [0] * len(classes)\n",
    "    for _, label in train_dataset:\n",
    "        train_counts[label] += 1\n",
    "\n",
    "    # Count occurrences of each category in the test dataset\n",
    "    test_counts = [0] * len(classes)\n",
    "    for _, label in test_dataset:\n",
    "        test_counts[label] += 1\n",
    "\n",
    "    # Plot the bar graph\n",
    "    width = 0.35  \n",
    "    x = np.arange(len(classes))\n",
    "\n",
    "    fig, ax = plt.subplots(figsize=(10, 6))\n",
    "    rects1 = ax.bar(x - width/2, train_counts, width, label='Train Dataset')\n",
    "    rects2 = ax.bar(x + width/2, test_counts, width, label='test Dataset')\n",
    "\n",
    "    # x-axis labels.\n",
    "    ax.set_xlabel('Categories')\n",
    "    ax.set_ylabel('Number of Samples')\n",
    "    ax.set_title('Category Distribution in Train and test Datasets')\n",
    "    ax.set_xticks(x)\n",
    "    ax.set_xticklabels(classes, rotation=45, ha=\"right\")\n",
    "    ax.legend()\n",
    "\n",
    "    plt.show()\n",
    "\n",
    "\n",
    "\n",
    "plot_category_distribution(train_dataset, test_dataset)\n",
    "print(\"Number of Training Data points: \",len(train_dataset))\n",
    "print(\"Number of Testing Data points: \",len(test_dataset))\n"
   ]
  },
  {
   "cell_type": "code",
   "execution_count": 8,
   "id": "7b764e84",
   "metadata": {
    "execution": {
     "iopub.execute_input": "2024-05-13T16:14:49.763546Z",
     "iopub.status.busy": "2024-05-13T16:14:49.762809Z",
     "iopub.status.idle": "2024-05-13T16:14:49.773112Z",
     "shell.execute_reply": "2024-05-13T16:14:49.772178Z"
    },
    "papermill": {
     "duration": 0.035682,
     "end_time": "2024-05-13T16:14:49.775146",
     "exception": false,
     "start_time": "2024-05-13T16:14:49.739464",
     "status": "completed"
    },
    "tags": []
   },
   "outputs": [],
   "source": [
    "dtype = torch.float16\n",
    "device = torch.device(\"cuda:0\")\n",
    "def train(model: nn.Module, num_epochs, train_loader, test_loader, lr):\n",
    "    model.type(dtype)\n",
    "    model.to(device)\n",
    "    model.train()\n",
    "    optimizer = torch.optim.SGD(model.parameters(), lr)\n",
    "    loss = nn.CrossEntropyLoss()\n",
    "    lrc = torch.optim.lr_scheduler.CosineAnnealingLR(optimizer, T_max=num_epochs, eta_min=lr/10)\n",
    "    loss_array = []\n",
    "    acc_array = []\n",
    "    \n",
    "    for epoch in tqdm.tqdm(range(num_epochs)):\n",
    "        running_loss, c = 0, 0\n",
    "        \n",
    "        for inputs, target in train_loader:\n",
    "            inputs = inputs.type(dtype)\n",
    "            inputs = inputs.to(device)\n",
    "            target = target.to(device)\n",
    "\n",
    "            y_pred = model(inputs)\n",
    "            l = loss(y_pred, target)\n",
    "\n",
    "            optimizer.zero_grad()\n",
    "            l.backward()\n",
    "            optimizer.step()\n",
    "\n",
    "            running_loss += l\n",
    "            c += 1\n",
    "        \n",
    "        loss_array.append(running_loss.item() / c)\n",
    "        acc_array.append(test(model, test_loader))\n",
    "        \n",
    "    return loss_array, acc_array"
   ]
  },
  {
   "cell_type": "code",
   "execution_count": 9,
   "id": "1ed7ccca",
   "metadata": {
    "execution": {
     "iopub.execute_input": "2024-05-13T16:14:49.822262Z",
     "iopub.status.busy": "2024-05-13T16:14:49.821534Z",
     "iopub.status.idle": "2024-05-13T16:14:49.828957Z",
     "shell.execute_reply": "2024-05-13T16:14:49.827937Z"
    },
    "papermill": {
     "duration": 0.033495,
     "end_time": "2024-05-13T16:14:49.831029",
     "exception": false,
     "start_time": "2024-05-13T16:14:49.797534",
     "status": "completed"
    },
    "tags": []
   },
   "outputs": [],
   "source": [
    "@torch.no_grad()\n",
    "def test(model,test_loader):\n",
    "    correct=0\n",
    "    total=0\n",
    "    model.eval()\n",
    "    model.to(device)\n",
    "    model.type(dtype)\n",
    "    \n",
    "    with torch.no_grad():\n",
    "        for data in test_loader:\n",
    "            image,lables=data\n",
    "            outputs=model(image.type(dtype).to(device))\n",
    "            _,predicted=torch.max(outputs.data,dim=1)\n",
    "            total+=lables.size(0)\n",
    "            correct+=(predicted==lables.to(device)).sum().item()\n",
    "    acc = correct/total\n",
    "    return acc\n",
    "\n"
   ]
  },
  {
   "cell_type": "code",
   "execution_count": 10,
   "id": "06b73432",
   "metadata": {
    "execution": {
     "iopub.execute_input": "2024-05-13T16:14:49.877323Z",
     "iopub.status.busy": "2024-05-13T16:14:49.876785Z",
     "iopub.status.idle": "2024-05-13T16:14:49.881032Z",
     "shell.execute_reply": "2024-05-13T16:14:49.880166Z"
    },
    "papermill": {
     "duration": 0.029618,
     "end_time": "2024-05-13T16:14:49.883077",
     "exception": false,
     "start_time": "2024-05-13T16:14:49.853459",
     "status": "completed"
    },
    "tags": []
   },
   "outputs": [],
   "source": [
    "# def train_tumor(model, epochs, batch_size = 32,lr=0.001):\n",
    "# #     train_dataset = torchvision.datasets.ImageFolder(\"/kaggle/input/brain-tumor-classification-mri/Training\",transform=data_transform[\"train\"])\n",
    "# #     train_loader = data_utils.DataLoader(train_dataset,batch_size=batch_size,shuffle=True)\n",
    "# #     test_dataset = torchvision.datasets.ImageFolder(\"/kaggle/input/brain-tumor-classification-mri/Testing\",transform=data_transform[\"tes\"])\n",
    "# #     test_loader = data_utils.DataLoader(test_dataset,batch_size=batch_size,shuffle=False)\n",
    "#     train(model, epochs, train_loader,test_loader,lr)\n",
    "#     test(model,test_loader)"
   ]
  },
  {
   "cell_type": "code",
   "execution_count": 11,
   "id": "d37ad5c6",
   "metadata": {
    "execution": {
     "iopub.execute_input": "2024-05-13T16:14:49.929924Z",
     "iopub.status.busy": "2024-05-13T16:14:49.929369Z",
     "iopub.status.idle": "2024-05-13T16:14:49.935070Z",
     "shell.execute_reply": "2024-05-13T16:14:49.934202Z"
    },
    "papermill": {
     "duration": 0.031575,
     "end_time": "2024-05-13T16:14:49.937133",
     "exception": false,
     "start_time": "2024-05-13T16:14:49.905558",
     "status": "completed"
    },
    "tags": []
   },
   "outputs": [],
   "source": [
    "def _forward_impl(self, x):\n",
    "    x = x.type(dtype)  \n",
    "    x = self.conv1(x)\n",
    "    x = self.bn1(x)\n",
    "    x = self.relu(x)\n",
    "    x = self.maxpool(x)\n",
    "    x = self.layer1(x)\n",
    "    x = self.layer2(x)\n",
    "    x = self.layer3(x)\n",
    "    x = self.layer4(x)\n",
    "    return x"
   ]
  },
  {
   "cell_type": "markdown",
   "id": "7978d215",
   "metadata": {
    "papermill": {
     "duration": 0.022371,
     "end_time": "2024-05-13T16:14:49.982053",
     "exception": false,
     "start_time": "2024-05-13T16:14:49.959682",
     "status": "completed"
    },
    "tags": []
   },
   "source": [
    "* VGG-16 100, lr == 0.001"
   ]
  },
  {
   "cell_type": "code",
   "execution_count": 12,
   "id": "5e2b9928",
   "metadata": {
    "execution": {
     "iopub.execute_input": "2024-05-13T16:14:50.028706Z",
     "iopub.status.busy": "2024-05-13T16:14:50.028060Z",
     "iopub.status.idle": "2024-05-13T16:14:50.214149Z",
     "shell.execute_reply": "2024-05-13T16:14:50.213191Z"
    },
    "papermill": {
     "duration": 0.211891,
     "end_time": "2024-05-13T16:14:50.216391",
     "exception": false,
     "start_time": "2024-05-13T16:14:50.004500",
     "status": "completed"
    },
    "tags": []
   },
   "outputs": [],
   "source": [
    "class GraphCNN_VGG16(nn.Module):\n",
    "    def __init__(self,k, num_classes):\n",
    "        super().__init__()\n",
    "        self.k = k\n",
    "        self.num_classes = num_classes\n",
    "        self.vgg16 = models.vgg16(pretrained=True)  # Load pre-trained VGG-16\n",
    "        self.conv1 = torch_geometric.nn.GATConv(512, 256)  # Adjust input dimension here\n",
    "        self.dropout = nn.Dropout(0.5)\n",
    "        self.conv2 = torch_geometric.nn.GATConv(256, num_classes)\n",
    "        \n",
    "    def forward_features(self,X):\n",
    "        features = self.vgg16.features(X)  # Extract features using VGG-16\n",
    "#         print(\"VGG16 Features Shape:\", features.shape)\n",
    "#         print(\"Features: \", features)\n",
    "        return features\n",
    "\n",
    "    def convert_graph(self, x):\n",
    "        b,c,h,w = x.shape\n",
    "        device = x.device\n",
    "        k = self.k\n",
    "        x = torch.permute(x,(0,2,3,1)).reshape((b,h*w,c))\n",
    "        y = torch.cdist(x,x,2)  # [b, hw, hw]\n",
    "        _,idx = torch.topk(y,k,-1)\n",
    "        source = torch.arange(h*w,device=device).repeat_interleave(k).repeat(b)\n",
    "        target = torch.flatten(idx)\n",
    "        step = torch.arange(b,device=device).repeat_interleave(h*w*k)*h*w\n",
    "        adj = torch.row_stack([source,target]) + step\n",
    "        return x.reshape((b*h*w,c)), adj.long()\n",
    "\n",
    "    def froward_gcn(self,X,adj):\n",
    "        X = self.conv1(X,adj)\n",
    "        X = self.dropout(X)\n",
    "        X = self.conv2(X,adj)  # (B*7*7, num_classes)\n",
    "        return X\n",
    "\n",
    "    def forward(self,X):\n",
    "        batch = X.shape[0]\n",
    "        X = self.forward_features(X)\n",
    "        X,adj = self.convert_graph(X)\n",
    "        X = self.froward_gcn(X,adj)\n",
    "        X = torch.reshape(X,(batch, -1, self.num_classes))\n",
    "        X = torch.mean(X,1) # (B, num_classes)\n",
    "        return X"
   ]
  },
  {
   "cell_type": "code",
   "execution_count": null,
   "id": "d571e251",
   "metadata": {
    "papermill": {
     "duration": 0.023183,
     "end_time": "2024-05-13T16:14:50.262460",
     "exception": false,
     "start_time": "2024-05-13T16:14:50.239277",
     "status": "completed"
    },
    "tags": []
   },
   "outputs": [],
   "source": []
  },
  {
   "cell_type": "markdown",
   "id": "9249de26",
   "metadata": {
    "papermill": {
     "duration": 0.021984,
     "end_time": "2024-05-13T16:14:50.306591",
     "exception": false,
     "start_time": "2024-05-13T16:14:50.284607",
     "status": "completed"
    },
    "tags": []
   },
   "source": [
    "* Densenet -121 100 Lr = 0.0001"
   ]
  },
  {
   "cell_type": "code",
   "execution_count": 13,
   "id": "cf05a488",
   "metadata": {
    "execution": {
     "iopub.execute_input": "2024-05-13T16:14:50.352355Z",
     "iopub.status.busy": "2024-05-13T16:14:50.351760Z",
     "iopub.status.idle": "2024-05-13T16:14:50.366241Z",
     "shell.execute_reply": "2024-05-13T16:14:50.365357Z"
    },
    "papermill": {
     "duration": 0.039718,
     "end_time": "2024-05-13T16:14:50.368454",
     "exception": false,
     "start_time": "2024-05-13T16:14:50.328736",
     "status": "completed"
    },
    "tags": []
   },
   "outputs": [],
   "source": [
    "class GraphCNN_Densenet121(nn.Module):\n",
    "    def __init__(self,k, num_classes):\n",
    "        super().__init__()\n",
    "        self.k = k\n",
    "        self.num_classes = num_classes\n",
    "        self.densenet = models.densenet121(pretrained=True)  # Load pre-trained DenseNet-121\n",
    "        self.conv1 = torch_geometric.nn.GATConv(1024, 256)\n",
    "        self.dropout = nn.Dropout(0.5)\n",
    "        self.conv2 = torch_geometric.nn.GATConv(256, num_classes)\n",
    "        \n",
    "    def forward_features(self,X):\n",
    "        features = self.densenet.features(X)  # Extract features using DenseNet-121\n",
    "#         print(\"DenseNet121 Features Shape:\", features.shape)\n",
    "#         print(\"Features: \", features)\n",
    "        return features\n",
    "\n",
    "    def convert_graph(self, x):\n",
    "        b,c,h,w = x.shape\n",
    "        device = x.device\n",
    "        k = self.k\n",
    "        x = torch.permute(x,(0,2,3,1)).reshape((b,h*w,c))\n",
    "        y = torch.cdist(x,x,2)  # [b, hw, hw]\n",
    "        _,idx = torch.topk(y,k,-1)\n",
    "        source = torch.arange(h*w,device=device).repeat_interleave(k).repeat(b)\n",
    "        target = torch.flatten(idx)\n",
    "        step = torch.arange(b,device=device).repeat_interleave(h*w*k)*h*w\n",
    "        adj = torch.row_stack([source,target]) + step\n",
    "        return x.reshape((b*h*w,c)), adj.long()\n",
    "\n",
    "    def froward_gcn(self,X,adj):\n",
    "        X = self.conv1(X,adj)\n",
    "        X = self.dropout(X)\n",
    "        X = self.conv2(X,adj)  # (B*7*7, num_classes)\n",
    "        return X\n",
    "\n",
    "    def forward(self,X):\n",
    "        batch = X.shape[0]\n",
    "        X = self.forward_features(X)\n",
    "        X,adj = self.convert_graph(X)\n",
    "        X = self.froward_gcn(X,adj)\n",
    "        X = torch.reshape(X,(batch, -1, self.num_classes))\n",
    "        X = torch.mean(X,1) # (B, num_classes)\n",
    "        return X\n"
   ]
  },
  {
   "cell_type": "markdown",
   "id": "8b81f970",
   "metadata": {
    "papermill": {
     "duration": 0.021974,
     "end_time": "2024-05-13T16:14:50.412669",
     "exception": false,
     "start_time": "2024-05-13T16:14:50.390695",
     "status": "completed"
    },
    "tags": []
   },
   "source": [
    "* Resnet-18 30 lr = 0.001"
   ]
  },
  {
   "cell_type": "code",
   "execution_count": 14,
   "id": "2eb08410",
   "metadata": {
    "execution": {
     "iopub.execute_input": "2024-05-13T16:14:50.458337Z",
     "iopub.status.busy": "2024-05-13T16:14:50.458023Z",
     "iopub.status.idle": "2024-05-13T16:14:50.473532Z",
     "shell.execute_reply": "2024-05-13T16:14:50.472795Z"
    },
    "papermill": {
     "duration": 0.040819,
     "end_time": "2024-05-13T16:14:50.475550",
     "exception": false,
     "start_time": "2024-05-13T16:14:50.434731",
     "status": "completed"
    },
    "tags": []
   },
   "outputs": [],
   "source": [
    "class GraphCNN_Resnet18(nn.Module):\n",
    "    def __init__(self,k, num_classes):\n",
    "        super().__init__()\n",
    "        self.k = k\n",
    "        self.num_classes = num_classes\n",
    "        self.resnet = torchvision.models.resnet18(True)\n",
    "        self.resnet._forward_impl = MethodType(_forward_impl,self.resnet)\n",
    "        self.conv1 = torch_geometric.nn.GATConv(512,256)\n",
    "        self.dropout = nn.Dropout(0.5)\n",
    "        self.conv2 = torch_geometric.nn.GATConv(256,num_classes)\n",
    "        \n",
    "    def forward_features(self,X):\n",
    "        # B * 512 * 7 * 7\n",
    "        features = self.resnet(X)\n",
    "#         print(\"ResNet-18 Features Shape:\", features.shape)\n",
    "#         print(\"Features: \", features)\n",
    "        return features\n",
    "\n",
    "    def convert_graph(self, x):\n",
    "        b,c,h,w = x.shape\n",
    "        device = x.device\n",
    "        k = self.k\n",
    "        x = torch.permute(x,(0,2,3,1)).reshape((b,h*w,c))\n",
    "        y = torch.cdist(x,x,2)  # [b, hw, hw]\n",
    "        _,idx = torch.topk(y,k,-1)\n",
    "        source = torch.arange(h*w,device=device).repeat_interleave(k).repeat(b)\n",
    "        target = torch.flatten(idx)\n",
    "        step = torch.arange(b,device=device).repeat_interleave(h*w*k)*h*w\n",
    "        adj = torch.row_stack([source,target]) + step\n",
    "        return x.reshape((b*h*w,c)), adj.long()\n",
    "\n",
    "    def froward_gcn(self,X,adj):\n",
    "        X = self.conv1(X,adj)\n",
    "        X = self.dropout(X)\n",
    "        X = self.conv2(X,adj)  # (B*7*7, num_classes)\n",
    "        return X\n",
    "\n",
    "    def forward(self,X):\n",
    "        batch = X.shape[0]\n",
    "        X = self.forward_features(X)\n",
    "        X,adj = self.convert_graph(X)\n",
    "        X = self.froward_gcn(X,adj)\n",
    "        X = torch.reshape(X,(batch, -1, self.num_classes))\n",
    "        X = torch.mean(X,1) # (B, num_classes)\n",
    "        return X"
   ]
  },
  {
   "cell_type": "code",
   "execution_count": 15,
   "id": "374f84a7",
   "metadata": {
    "execution": {
     "iopub.execute_input": "2024-05-13T16:14:50.524361Z",
     "iopub.status.busy": "2024-05-13T16:14:50.523638Z",
     "iopub.status.idle": "2024-05-13T16:14:50.530430Z",
     "shell.execute_reply": "2024-05-13T16:14:50.529506Z"
    },
    "papermill": {
     "duration": 0.033109,
     "end_time": "2024-05-13T16:14:50.532555",
     "exception": false,
     "start_time": "2024-05-13T16:14:50.499446",
     "status": "completed"
    },
    "tags": []
   },
   "outputs": [],
   "source": [
    "def display_model_performance(loss_array, acc_array):\n",
    "    plt.figure(figsize=(10, 5))\n",
    "    plt.subplot(1, 2, 1)\n",
    "    plt.plot(loss_array)\n",
    "    plt.title('Training Loss')\n",
    "    plt.xlabel('Epochs')\n",
    "    plt.ylabel('Loss')\n",
    "\n",
    "    plt.subplot(1, 2, 2)\n",
    "    plt.plot(acc_array)\n",
    "    plt.title('test Accuracy')\n",
    "    plt.xlabel('Epochs')\n",
    "    plt.ylabel('Accuracy')\n",
    "\n",
    "    plt.tight_layout()\n",
    "    plt.show()\n"
   ]
  },
  {
   "cell_type": "code",
   "execution_count": 16,
   "id": "a32e37af",
   "metadata": {
    "execution": {
     "iopub.execute_input": "2024-05-13T16:14:50.580155Z",
     "iopub.status.busy": "2024-05-13T16:14:50.579577Z",
     "iopub.status.idle": "2024-05-13T16:14:50.584524Z",
     "shell.execute_reply": "2024-05-13T16:14:50.583653Z"
    },
    "papermill": {
     "duration": 0.031099,
     "end_time": "2024-05-13T16:14:50.586657",
     "exception": false,
     "start_time": "2024-05-13T16:14:50.555558",
     "status": "completed"
    },
    "tags": []
   },
   "outputs": [],
   "source": [
    "def display_loss_accuracy(loss_array, acc_array):\n",
    "    for epoch, (loss, acc) in enumerate(zip(loss_array, acc_array), 1):\n",
    "        print(f\"Epoch {epoch} - Loss: {loss:.4f} - Accuracy: {acc:.4f}\")"
   ]
  },
  {
   "cell_type": "code",
   "execution_count": 17,
   "id": "fc75e3bc",
   "metadata": {
    "execution": {
     "iopub.execute_input": "2024-05-13T16:14:50.634087Z",
     "iopub.status.busy": "2024-05-13T16:14:50.633346Z",
     "iopub.status.idle": "2024-05-13T16:14:50.645904Z",
     "shell.execute_reply": "2024-05-13T16:14:50.645202Z"
    },
    "papermill": {
     "duration": 0.038605,
     "end_time": "2024-05-13T16:14:50.648088",
     "exception": false,
     "start_time": "2024-05-13T16:14:50.609483",
     "status": "completed"
    },
    "tags": []
   },
   "outputs": [],
   "source": [
    "def plot_roc_curve(model_name, model, test_loader, num_classes):\n",
    "    print(f\"Model Name: {model_name}\")\n",
    "    model.eval()\n",
    "    device = next(model.parameters()).device\n",
    "    y_true = []\n",
    "    y_scores = []\n",
    "\n",
    "    with torch.no_grad():\n",
    "        for data in test_loader:\n",
    "            inputs, labels = data\n",
    "            inputs, labels = inputs.to(device), labels.to(device)\n",
    "\n",
    "            # Convert inputs to HalfTensor\n",
    "            inputs = inputs.type(torch.cuda.HalfTensor)\n",
    "\n",
    "            y_true.extend(labels.cpu().numpy())\n",
    "            outputs = model(inputs)\n",
    "            y_scores.extend(outputs.cpu().numpy())\n",
    "\n",
    "    y_true = label_binarize(y_true, classes=np.arange(num_classes))\n",
    "    y_scores = np.array(y_scores)\n",
    "\n",
    "    fpr = dict()\n",
    "    tpr = dict()\n",
    "    roc_auc = dict()\n",
    "\n",
    "    for i in range(len(class_names)):\n",
    "        fpr[i], tpr[i], _ = roc_curve(y_true[:, i], y_scores[:, i])\n",
    "        roc_auc[i] = auc(fpr[i], tpr[i])\n",
    "\n",
    "    # Plot ROC curve for each class\n",
    "    plt.figure(figsize=(8, 6))\n",
    "    for i in range(len(class_names)):\n",
    "        plt.plot(fpr[i], tpr[i], label=f'{class_names[i]} (AUC = {roc_auc[i]:.2f})')\n",
    "\n",
    "    plt.plot([0, 1], [0, 1], 'k--')  # Diagonal line\n",
    "    plt.xlabel('False Positive Rate')\n",
    "    plt.ylabel('True Positive Rate')\n",
    "    plt.title('ROC Curve for {} Model'.format(model_name))\n",
    "    plt.legend(loc=\"lower right\")\n",
    "    plt.show()\n"
   ]
  },
  {
   "cell_type": "code",
   "execution_count": 18,
   "id": "42509ab8",
   "metadata": {
    "execution": {
     "iopub.execute_input": "2024-05-13T16:14:50.696897Z",
     "iopub.status.busy": "2024-05-13T16:14:50.696246Z",
     "iopub.status.idle": "2024-05-13T16:14:50.703370Z",
     "shell.execute_reply": "2024-05-13T16:14:50.702479Z"
    },
    "papermill": {
     "duration": 0.034455,
     "end_time": "2024-05-13T16:14:50.705431",
     "exception": false,
     "start_time": "2024-05-13T16:14:50.670976",
     "status": "completed"
    },
    "tags": []
   },
   "outputs": [],
   "source": [
    "@torch.no_grad()\n",
    "def test_with_predictions(model, test_loader):\n",
    "    model.eval()\n",
    "    model.to(device)\n",
    "    model.type(dtype)\n",
    "\n",
    "    all_labels = []\n",
    "    all_predictions = []\n",
    "\n",
    "    for data in test_loader:\n",
    "        images, labels = data\n",
    "        images = images.type(dtype).to(device)\n",
    "\n",
    "        outputs = model(images)\n",
    "        _, predicted = torch.max(outputs.data, dim=1)\n",
    "\n",
    "        all_labels.extend(labels.numpy())\n",
    "        all_predictions.extend(predicted.cpu().numpy())\n",
    "\n",
    "    return all_labels, all_predictions"
   ]
  },
  {
   "cell_type": "code",
   "execution_count": 19,
   "id": "4c309aa1",
   "metadata": {
    "execution": {
     "iopub.execute_input": "2024-05-13T16:14:50.751537Z",
     "iopub.status.busy": "2024-05-13T16:14:50.751265Z",
     "iopub.status.idle": "2024-05-13T16:16:11.776377Z",
     "shell.execute_reply": "2024-05-13T16:16:11.775190Z"
    },
    "papermill": {
     "duration": 81.068724,
     "end_time": "2024-05-13T16:16:11.796622",
     "exception": false,
     "start_time": "2024-05-13T16:14:50.727898",
     "status": "completed"
    },
    "tags": []
   },
   "outputs": [
    {
     "name": "stderr",
     "output_type": "stream",
     "text": [
      "Downloading: \"https://download.pytorch.org/models/resnet18-f37072fd.pth\" to /root/.cache/torch/hub/checkpoints/resnet18-f37072fd.pth\n"
     ]
    },
    {
     "data": {
      "application/vnd.jupyter.widget-view+json": {
       "model_id": "d1279842816a436d90cd692af508f2c9",
       "version_major": 2,
       "version_minor": 0
      },
      "text/plain": [
       "  0%|          | 0.00/44.7M [00:00<?, ?B/s]"
      ]
     },
     "metadata": {},
     "output_type": "display_data"
    },
    {
     "name": "stderr",
     "output_type": "stream",
     "text": [
      "100%|██████████| 3/3 [01:16<00:00, 25.35s/it]"
     ]
    },
    {
     "name": "stdout",
     "output_type": "stream",
     "text": [
      "Epoch 1 - Loss: 1.2278 - Accuracy: 0.4315\n",
      "Epoch 2 - Loss: 0.8264 - Accuracy: 0.5178\n",
      "Epoch 3 - Loss: 0.6049 - Accuracy: 0.5457\n"
     ]
    },
    {
     "name": "stderr",
     "output_type": "stream",
     "text": [
      "\n"
     ]
    }
   ],
   "source": [
    "model_Resnet18 = GraphCNN_Resnet18(k=8,num_classes=4)\n",
    "\n",
    "\n",
    "loss_array_Resnet18, acc_array_Resnet18 = train(model_Resnet18, 3, train_loader, test_loader, lr=0.001)\n",
    "\n",
    "            \n",
    "display_loss_accuracy(loss_array_Resnet18, acc_array_Resnet18)"
   ]
  },
  {
   "cell_type": "code",
   "execution_count": 20,
   "id": "253f71b8",
   "metadata": {
    "execution": {
     "iopub.execute_input": "2024-05-13T16:16:11.846429Z",
     "iopub.status.busy": "2024-05-13T16:16:11.846097Z",
     "iopub.status.idle": "2024-05-13T16:16:12.258693Z",
     "shell.execute_reply": "2024-05-13T16:16:12.257835Z"
    },
    "papermill": {
     "duration": 0.439611,
     "end_time": "2024-05-13T16:16:12.260804",
     "exception": false,
     "start_time": "2024-05-13T16:16:11.821193",
     "status": "completed"
    },
    "tags": []
   },
   "outputs": [
    {
     "data": {
      "image/png": "[encoded data removed]",
      "text/plain": [
       "<Figure size 720x360 with 2 Axes>"
      ]
     },
     "metadata": {
      "needs_background": "light"
     },
     "output_type": "display_data"
    }
   ],
   "source": [
    "display_model_performance(loss_array_Resnet18, acc_array_Resnet18)"
   ]
  },
  {
   "cell_type": "code",
   "execution_count": 21,
   "id": "8f2a105f",
   "metadata": {
    "execution": {
     "iopub.execute_input": "2024-05-13T16:16:12.310542Z",
     "iopub.status.busy": "2024-05-13T16:16:12.310261Z",
     "iopub.status.idle": "2024-05-13T16:16:14.815953Z",
     "shell.execute_reply": "2024-05-13T16:16:14.814703Z"
    },
    "papermill": {
     "duration": 2.532892,
     "end_time": "2024-05-13T16:16:14.818223",
     "exception": false,
     "start_time": "2024-05-13T16:16:12.285331",
     "status": "completed"
    },
    "tags": []
   },
   "outputs": [
    {
     "name": "stdout",
     "output_type": "stream",
     "text": [
      "Test Accuracy:  0.5609137055837563\n"
     ]
    }
   ],
   "source": [
    "acc_Resnet18 = test(model_Resnet18, test_loader)\n",
    "\n",
    "            \n",
    "print(\"Test Accuracy: \", acc_Resnet18)"
   ]
  },
  {
   "cell_type": "code",
   "execution_count": 22,
   "id": "8c865176",
   "metadata": {
    "execution": {
     "iopub.execute_input": "2024-05-13T16:16:14.868686Z",
     "iopub.status.busy": "2024-05-13T16:16:14.868364Z",
     "iopub.status.idle": "2024-05-13T16:16:17.322639Z",
     "shell.execute_reply": "2024-05-13T16:16:17.321719Z"
    },
    "papermill": {
     "duration": 2.482551,
     "end_time": "2024-05-13T16:16:17.325584",
     "exception": false,
     "start_time": "2024-05-13T16:16:14.843033",
     "status": "completed"
    },
    "tags": []
   },
   "outputs": [],
   "source": [
    "# Evaluate the model and get labels and predictions\n",
    "true_labels, pred_labels = test_with_predictions(model_Resnet18, test_loader)\n",
    "\n",
    "# Compute confusion matrix\n",
    "conf_matrix_Resnet18 = confusion_matrix(true_labels, pred_labels)\n",
    "\n",
    "# Compute classification report\n",
    "class_report_Resnet18 = classification_report(true_labels, pred_labels)\n"
   ]
  },
  {
   "cell_type": "code",
   "execution_count": 23,
   "id": "8af53169",
   "metadata": {
    "execution": {
     "iopub.execute_input": "2024-05-13T16:16:17.378984Z",
     "iopub.status.busy": "2024-05-13T16:16:17.378647Z",
     "iopub.status.idle": "2024-05-13T16:16:17.383859Z",
     "shell.execute_reply": "2024-05-13T16:16:17.382937Z"
    },
    "papermill": {
     "duration": 0.033764,
     "end_time": "2024-05-13T16:16:17.386121",
     "exception": false,
     "start_time": "2024-05-13T16:16:17.352357",
     "status": "completed"
    },
    "tags": []
   },
   "outputs": [
    {
     "name": "stdout",
     "output_type": "stream",
     "text": [
      "Confusion Matrix:\n",
      "[[30 26 39  5]\n",
      " [ 9 61 36  9]\n",
      " [10 12 78  5]\n",
      " [ 0 12 14 48]]\n"
     ]
    }
   ],
   "source": [
    "print(\"Confusion Matrix:\")\n",
    "print(conf_matrix_Resnet18)"
   ]
  },
  {
   "cell_type": "code",
   "execution_count": 24,
   "id": "900388d6",
   "metadata": {
    "execution": {
     "iopub.execute_input": "2024-05-13T16:16:17.436218Z",
     "iopub.status.busy": "2024-05-13T16:16:17.435587Z",
     "iopub.status.idle": "2024-05-13T16:16:17.440379Z",
     "shell.execute_reply": "2024-05-13T16:16:17.439515Z"
    },
    "papermill": {
     "duration": 0.032556,
     "end_time": "2024-05-13T16:16:17.442706",
     "exception": false,
     "start_time": "2024-05-13T16:16:17.410150",
     "status": "completed"
    },
    "tags": []
   },
   "outputs": [
    {
     "name": "stdout",
     "output_type": "stream",
     "text": [
      "\n",
      "Classification Report:\n",
      "              precision    recall  f1-score   support\n",
      "\n",
      "           0       0.61      0.30      0.40       100\n",
      "           1       0.55      0.53      0.54       115\n",
      "           2       0.47      0.74      0.57       105\n",
      "           3       0.72      0.65      0.68        74\n",
      "\n",
      "    accuracy                           0.55       394\n",
      "   macro avg       0.59      0.56      0.55       394\n",
      "weighted avg       0.57      0.55      0.54       394\n",
      "\n"
     ]
    }
   ],
   "source": [
    "print(\"\\nClassification Report:\")\n",
    "print(class_report_Resnet18)"
   ]
  },
  {
   "cell_type": "code",
   "execution_count": 25,
   "id": "30abda3d",
   "metadata": {
    "execution": {
     "iopub.execute_input": "2024-05-13T16:16:17.491819Z",
     "iopub.status.busy": "2024-05-13T16:16:17.491526Z",
     "iopub.status.idle": "2024-05-13T16:16:17.770507Z",
     "shell.execute_reply": "2024-05-13T16:16:17.769529Z"
    },
    "papermill": {
     "duration": 0.305863,
     "end_time": "2024-05-13T16:16:17.772581",
     "exception": false,
     "start_time": "2024-05-13T16:16:17.466718",
     "status": "completed"
    },
    "tags": []
   },
   "outputs": [
    {
     "data": {
      "image/png": "[encoded data removed]",
      "text/plain": [
       "<Figure size 720x576 with 2 Axes>"
      ]
     },
     "metadata": {
      "needs_background": "light"
     },
     "output_type": "display_data"
    }
   ],
   "source": [
    "# Plot confusion matrix heatmap\n",
    "plt.figure(figsize=(10,8))\n",
    "plt.title(\"Confusion Matrix Heatmap - Resnet-18\")\n",
    "sns.heatmap(conf_matrix_Resnet18, annot=True, fmt=\"d\", \n",
    "            xticklabels=train_dataset.classes, yticklabels=train_dataset.classes)\n",
    "plt.title(\"Confusion Matrix Heatmap\")\n",
    "plt.xlabel(\"Predicted Label\")\n",
    "plt.ylabel(\"True Label\")\n",
    "plt.xticks(rotation=45, ha=\"right\")\n",
    "plt.yticks(rotation=0)\n",
    "plt.tight_layout()\n",
    "plt.show()"
   ]
  },
  {
   "cell_type": "code",
   "execution_count": 26,
   "id": "3703e81f",
   "metadata": {
    "execution": {
     "iopub.execute_input": "2024-05-13T16:16:17.824824Z",
     "iopub.status.busy": "2024-05-13T16:16:17.824503Z",
     "iopub.status.idle": "2024-05-13T16:16:20.443875Z",
     "shell.execute_reply": "2024-05-13T16:16:20.442901Z"
    },
    "papermill": {
     "duration": 2.648454,
     "end_time": "2024-05-13T16:16:20.446044",
     "exception": false,
     "start_time": "2024-05-13T16:16:17.797590",
     "status": "completed"
    },
    "tags": []
   },
   "outputs": [
    {
     "name": "stdout",
     "output_type": "stream",
     "text": [
      "Model Name: GNN-ResNet18\n"
     ]
    },
    {
     "data": {
      "image/png": "[encoded data removed]",
      "text/plain": [
       "<Figure size 576x432 with 1 Axes>"
      ]
     },
     "metadata": {
      "needs_background": "light"
     },
     "output_type": "display_data"
    }
   ],
   "source": [
    "class_names = ['glioma_tumor', 'meningioma_tumor', 'no_tumor', 'pituitary_tumor']\n",
    "plot_roc_curve(\"GNN-ResNet18\", model_Resnet18, test_loader, num_classes=4)"
   ]
  },
  {
   "cell_type": "code",
   "execution_count": 27,
   "id": "002192a8",
   "metadata": {
    "execution": {
     "iopub.execute_input": "2024-05-13T16:16:20.498583Z",
     "iopub.status.busy": "2024-05-13T16:16:20.498258Z",
     "iopub.status.idle": "2024-05-13T16:17:52.812443Z",
     "shell.execute_reply": "2024-05-13T16:17:52.810895Z"
    },
    "papermill": {
     "duration": 92.343096,
     "end_time": "2024-05-13T16:17:52.815177",
     "exception": false,
     "start_time": "2024-05-13T16:16:20.472081",
     "status": "completed"
    },
    "tags": []
   },
   "outputs": [
    {
     "name": "stderr",
     "output_type": "stream",
     "text": [
      "Downloading: \"https://download.pytorch.org/models/densenet121-a639ec97.pth\" to /root/.cache/torch/hub/checkpoints/densenet121-a639ec97.pth\n"
     ]
    },
    {
     "data": {
      "application/vnd.jupyter.widget-view+json": {
       "model_id": "5ab36ad109614a7b8f70de9dd43c820a",
       "version_major": 2,
       "version_minor": 0
      },
      "text/plain": [
       "  0%|          | 0.00/30.8M [00:00<?, ?B/s]"
      ]
     },
     "metadata": {},
     "output_type": "display_data"
    },
    {
     "name": "stderr",
     "output_type": "stream",
     "text": [
      "100%|██████████| 3/3 [01:31<00:00, 30.43s/it]"
     ]
    },
    {
     "name": "stdout",
     "output_type": "stream",
     "text": [
      "Epoch 1 - Loss: 1.7403 - Accuracy: 0.2690\n",
      "Epoch 2 - Loss: 1.2174 - Accuracy: 0.4086\n",
      "Epoch 3 - Loss: 0.9771 - Accuracy: 0.3756\n"
     ]
    },
    {
     "name": "stderr",
     "output_type": "stream",
     "text": [
      "\n"
     ]
    }
   ],
   "source": [
    "model_Densenet121 = GraphCNN_Densenet121(k=8,num_classes=4)\n",
    "\n",
    "\n",
    "loss_array_Densenet121, acc_array_Densenet121 = train(model_Densenet121, 3, train_loader, test_loader, lr=0.0001)\n",
    "\n",
    "            \n",
    "display_loss_accuracy(loss_array_Densenet121, acc_array_Densenet121)"
   ]
  },
  {
   "cell_type": "code",
   "execution_count": 28,
   "id": "20b700d3",
   "metadata": {
    "execution": {
     "iopub.execute_input": "2024-05-13T16:17:52.870667Z",
     "iopub.status.busy": "2024-05-13T16:17:52.869969Z",
     "iopub.status.idle": "2024-05-13T16:17:53.243090Z",
     "shell.execute_reply": "2024-05-13T16:17:53.242095Z"
    },
    "papermill": {
     "duration": 0.403641,
     "end_time": "2024-05-13T16:17:53.245450",
     "exception": false,
     "start_time": "2024-05-13T16:17:52.841809",
     "status": "completed"
    },
    "tags": []
   },
   "outputs": [
    {
     "data": {
      "image/png": "[encoded data removed]",
      "text/plain": [
       "<Figure size 720x360 with 2 Axes>"
      ]
     },
     "metadata": {
      "needs_background": "light"
     },
     "output_type": "display_data"
    }
   ],
   "source": [
    "display_model_performance(loss_array_Densenet121, acc_array_Densenet121)"
   ]
  },
  {
   "cell_type": "code",
   "execution_count": 29,
   "id": "96fe7f52",
   "metadata": {
    "execution": {
     "iopub.execute_input": "2024-05-13T16:17:53.300601Z",
     "iopub.status.busy": "2024-05-13T16:17:53.300256Z",
     "iopub.status.idle": "2024-05-13T16:17:56.336245Z",
     "shell.execute_reply": "2024-05-13T16:17:56.335194Z"
    },
    "papermill": {
     "duration": 3.066058,
     "end_time": "2024-05-13T16:17:56.338531",
     "exception": false,
     "start_time": "2024-05-13T16:17:53.272473",
     "status": "completed"
    },
    "tags": []
   },
   "outputs": [
    {
     "name": "stdout",
     "output_type": "stream",
     "text": [
      "Test Accuracy:  0.3883248730964467\n"
     ]
    }
   ],
   "source": [
    "acc_Densenet121 = test(model_Densenet121, test_loader)\n",
    "\n",
    "            \n",
    "print(\"Test Accuracy: \", acc_Densenet121)"
   ]
  },
  {
   "cell_type": "code",
   "execution_count": 30,
   "id": "3741f068",
   "metadata": {
    "execution": {
     "iopub.execute_input": "2024-05-13T16:17:56.393639Z",
     "iopub.status.busy": "2024-05-13T16:17:56.393302Z",
     "iopub.status.idle": "2024-05-13T16:17:58.884161Z",
     "shell.execute_reply": "2024-05-13T16:17:58.882985Z"
    },
    "papermill": {
     "duration": 2.521529,
     "end_time": "2024-05-13T16:17:58.887165",
     "exception": false,
     "start_time": "2024-05-13T16:17:56.365636",
     "status": "completed"
    },
    "tags": []
   },
   "outputs": [],
   "source": [
    "# Evaluate the model and get labels and predictions\n",
    "true_labels, pred_labels = test_with_predictions(model_Resnet18, test_loader)\n",
    "\n",
    "# Compute confusion matrix\n",
    "conf_matrix_Densenet121 = confusion_matrix(true_labels, pred_labels)\n",
    "\n",
    "# Compute classification report\n",
    "class_report_Densenet121 = classification_report(true_labels, pred_labels)"
   ]
  },
  {
   "cell_type": "code",
   "execution_count": 31,
   "id": "e4062c53",
   "metadata": {
    "execution": {
     "iopub.execute_input": "2024-05-13T16:17:58.944607Z",
     "iopub.status.busy": "2024-05-13T16:17:58.944244Z",
     "iopub.status.idle": "2024-05-13T16:17:58.949812Z",
     "shell.execute_reply": "2024-05-13T16:17:58.948583Z"
    },
    "papermill": {
     "duration": 0.035471,
     "end_time": "2024-05-13T16:17:58.951909",
     "exception": false,
     "start_time": "2024-05-13T16:17:58.916438",
     "status": "completed"
    },
    "tags": []
   },
   "outputs": [
    {
     "name": "stdout",
     "output_type": "stream",
     "text": [
      "Confusion Matrix:\n",
      "[[28 22 42  8]\n",
      " [ 8 57 41  9]\n",
      " [ 8 14 80  3]\n",
      " [ 0 13 10 51]]\n"
     ]
    }
   ],
   "source": [
    "print(\"Confusion Matrix:\")\n",
    "print(conf_matrix_Densenet121)"
   ]
  },
  {
   "cell_type": "code",
   "execution_count": 32,
   "id": "3104faf3",
   "metadata": {
    "execution": {
     "iopub.execute_input": "2024-05-13T16:17:59.008061Z",
     "iopub.status.busy": "2024-05-13T16:17:59.007224Z",
     "iopub.status.idle": "2024-05-13T16:17:59.012282Z",
     "shell.execute_reply": "2024-05-13T16:17:59.011297Z"
    },
    "papermill": {
     "duration": 0.0349,
     "end_time": "2024-05-13T16:17:59.014351",
     "exception": false,
     "start_time": "2024-05-13T16:17:58.979451",
     "status": "completed"
    },
    "tags": []
   },
   "outputs": [
    {
     "name": "stdout",
     "output_type": "stream",
     "text": [
      "\n",
      "Classification Report:\n",
      "              precision    recall  f1-score   support\n",
      "\n",
      "           0       0.64      0.28      0.39       100\n",
      "           1       0.54      0.50      0.52       115\n",
      "           2       0.46      0.76      0.58       105\n",
      "           3       0.72      0.69      0.70        74\n",
      "\n",
      "    accuracy                           0.55       394\n",
      "   macro avg       0.59      0.56      0.55       394\n",
      "weighted avg       0.58      0.55      0.53       394\n",
      "\n"
     ]
    }
   ],
   "source": [
    "print(\"\\nClassification Report:\")\n",
    "print(class_report_Densenet121)"
   ]
  },
  {
   "cell_type": "code",
   "execution_count": 33,
   "id": "678a4680",
   "metadata": {
    "execution": {
     "iopub.execute_input": "2024-05-13T16:17:59.069614Z",
     "iopub.status.busy": "2024-05-13T16:17:59.069332Z",
     "iopub.status.idle": "2024-05-13T16:17:59.354448Z",
     "shell.execute_reply": "2024-05-13T16:17:59.353530Z"
    },
    "papermill": {
     "duration": 0.315167,
     "end_time": "2024-05-13T16:17:59.356622",
     "exception": false,
     "start_time": "2024-05-13T16:17:59.041455",
     "status": "completed"
    },
    "tags": []
   },
   "outputs": [
    {
     "data": {
      "image/png": "[encoded data removed]",
      "text/plain": [
       "<Figure size 720x576 with 2 Axes>"
      ]
     },
     "metadata": {
      "needs_background": "light"
     },
     "output_type": "display_data"
    }
   ],
   "source": [
    "# Plot confusion matrix heatmap\n",
    "plt.figure(figsize=(10,8))\n",
    "plt.title(\"Confusion Matrix Heatmap - Densenet-121\")\n",
    "sns.heatmap(conf_matrix_Densenet121, annot=True, fmt=\"d\", \n",
    "            xticklabels=train_dataset.classes, yticklabels=train_dataset.classes)\n",
    "plt.title(\"Confusion Matrix Heatmap\")\n",
    "plt.xlabel(\"Predicted Label\")\n",
    "plt.ylabel(\"True Label\")\n",
    "plt.xticks(rotation=45, ha=\"right\")\n",
    "plt.yticks(rotation=0)\n",
    "plt.tight_layout()\n",
    "plt.show()"
   ]
  },
  {
   "cell_type": "code",
   "execution_count": 34,
   "id": "90a175b7",
   "metadata": {
    "execution": {
     "iopub.execute_input": "2024-05-13T16:17:59.413366Z",
     "iopub.status.busy": "2024-05-13T16:17:59.413081Z",
     "iopub.status.idle": "2024-05-13T16:18:02.578584Z",
     "shell.execute_reply": "2024-05-13T16:18:02.577589Z"
    },
    "papermill": {
     "duration": 3.196358,
     "end_time": "2024-05-13T16:18:02.580882",
     "exception": false,
     "start_time": "2024-05-13T16:17:59.384524",
     "status": "completed"
    },
    "tags": []
   },
   "outputs": [
    {
     "name": "stdout",
     "output_type": "stream",
     "text": [
      "Model Name: GNN-Densenet121\n"
     ]
    },
    {
     "data": {
      "image/png": "[encoded data removed]",
      "text/plain": [
       "<Figure size 576x432 with 1 Axes>"
      ]
     },
     "metadata": {
      "needs_background": "light"
     },
     "output_type": "display_data"
    }
   ],
   "source": [
    "class_names = ['glioma_tumor', 'meningioma_tumor', 'no_tumor', 'pituitary_tumor']\n",
    "plot_roc_curve(\"GNN-Densenet121\", model_Densenet121, test_loader, num_classes=4)"
   ]
  },
  {
   "cell_type": "code",
   "execution_count": 35,
   "id": "06b4a05d",
   "metadata": {
    "execution": {
     "iopub.execute_input": "2024-05-13T16:18:02.640504Z",
     "iopub.status.busy": "2024-05-13T16:18:02.640172Z",
     "iopub.status.idle": "2024-05-13T16:19:32.931270Z",
     "shell.execute_reply": "2024-05-13T16:19:32.930304Z"
    },
    "papermill": {
     "duration": 90.349153,
     "end_time": "2024-05-13T16:19:32.959574",
     "exception": false,
     "start_time": "2024-05-13T16:18:02.610421",
     "status": "completed"
    },
    "tags": []
   },
   "outputs": [
    {
     "name": "stderr",
     "output_type": "stream",
     "text": [
      "Downloading: \"https://download.pytorch.org/models/vgg16-397923af.pth\" to /root/.cache/torch/hub/checkpoints/vgg16-397923af.pth\n"
     ]
    },
    {
     "data": {
      "application/vnd.jupyter.widget-view+json": {
       "model_id": "27d763d5c0b643a48ca15f28a14054dc",
       "version_major": 2,
       "version_minor": 0
      },
      "text/plain": [
       "  0%|          | 0.00/528M [00:00<?, ?B/s]"
      ]
     },
     "metadata": {},
     "output_type": "display_data"
    },
    {
     "name": "stderr",
     "output_type": "stream",
     "text": [
      "100%|██████████| 3/3 [01:25<00:00, 28.64s/it]"
     ]
    },
    {
     "name": "stdout",
     "output_type": "stream",
     "text": [
      "Epoch 1 - Loss: 1.3125 - Accuracy: 0.3249\n",
      "Epoch 2 - Loss: 1.1535 - Accuracy: 0.4137\n",
      "Epoch 3 - Loss: 0.9208 - Accuracy: 0.4036\n"
     ]
    },
    {
     "name": "stderr",
     "output_type": "stream",
     "text": [
      "\n"
     ]
    }
   ],
   "source": [
    "model_VGG16 = GraphCNN_VGG16(k=8,num_classes=4)\n",
    "\n",
    "\n",
    "loss_array_VGG16, acc_array_VGG16 = train(model_VGG16, 3, train_loader, test_loader, lr=0.001)\n",
    "\n",
    "            \n",
    "display_loss_accuracy(loss_array_VGG16, acc_array_VGG16)\n",
    "\n"
   ]
  },
  {
   "cell_type": "code",
   "execution_count": 36,
   "id": "dab2d2f1",
   "metadata": {
    "execution": {
     "iopub.execute_input": "2024-05-13T16:19:33.019232Z",
     "iopub.status.busy": "2024-05-13T16:19:33.018869Z",
     "iopub.status.idle": "2024-05-13T16:19:33.441600Z",
     "shell.execute_reply": "2024-05-13T16:19:33.440723Z"
    },
    "papermill": {
     "duration": 0.455068,
     "end_time": "2024-05-13T16:19:33.443708",
     "exception": false,
     "start_time": "2024-05-13T16:19:32.988640",
     "status": "completed"
    },
    "tags": []
   },
   "outputs": [
    {
     "data": {
      "image/png": "[encoded data removed]",
      "text/plain": [
       "<Figure size 720x360 with 2 Axes>"
      ]
     },
     "metadata": {
      "needs_background": "light"
     },
     "output_type": "display_data"
    }
   ],
   "source": [
    "display_model_performance(loss_array_VGG16, acc_array_VGG16)"
   ]
  },
  {
   "cell_type": "code",
   "execution_count": 37,
   "id": "2c9bb94c",
   "metadata": {
    "execution": {
     "iopub.execute_input": "2024-05-13T16:19:33.505419Z",
     "iopub.status.busy": "2024-05-13T16:19:33.504566Z",
     "iopub.status.idle": "2024-05-13T16:19:36.712289Z",
     "shell.execute_reply": "2024-05-13T16:19:36.711198Z"
    },
    "papermill": {
     "duration": 3.24103,
     "end_time": "2024-05-13T16:19:36.714784",
     "exception": false,
     "start_time": "2024-05-13T16:19:33.473754",
     "status": "completed"
    },
    "tags": []
   },
   "outputs": [
    {
     "name": "stdout",
     "output_type": "stream",
     "text": [
      "Test Accuracy:  0.41878172588832485\n"
     ]
    }
   ],
   "source": [
    "acc_VGG16 = test(model_VGG16, test_loader)\n",
    "\n",
    "            \n",
    "print(\"Test Accuracy: \", acc_VGG16)"
   ]
  },
  {
   "cell_type": "code",
   "execution_count": 38,
   "id": "8c8844f4",
   "metadata": {
    "execution": {
     "iopub.execute_input": "2024-05-13T16:19:36.776106Z",
     "iopub.status.busy": "2024-05-13T16:19:36.775749Z",
     "iopub.status.idle": "2024-05-13T16:19:39.353800Z",
     "shell.execute_reply": "2024-05-13T16:19:39.352886Z"
    },
    "papermill": {
     "duration": 2.611367,
     "end_time": "2024-05-13T16:19:39.356370",
     "exception": false,
     "start_time": "2024-05-13T16:19:36.745003",
     "status": "completed"
    },
    "tags": []
   },
   "outputs": [],
   "source": [
    "# Evaluate the model and get labels and predictions\n",
    "true_labels, pred_labels = test_with_predictions(model_Resnet18, test_loader)\n",
    "\n",
    "# Compute confusion matrix\n",
    "conf_matrix_VGG16 = confusion_matrix(true_labels, pred_labels)\n",
    "\n",
    "# Compute classification report\n",
    "class_report_VGG16 = classification_report(true_labels, pred_labels)"
   ]
  },
  {
   "cell_type": "code",
   "execution_count": 39,
   "id": "b0ce8262",
   "metadata": {
    "execution": {
     "iopub.execute_input": "2024-05-13T16:19:39.418371Z",
     "iopub.status.busy": "2024-05-13T16:19:39.417690Z",
     "iopub.status.idle": "2024-05-13T16:19:39.423026Z",
     "shell.execute_reply": "2024-05-13T16:19:39.422106Z"
    },
    "papermill": {
     "duration": 0.038511,
     "end_time": "2024-05-13T16:19:39.425426",
     "exception": false,
     "start_time": "2024-05-13T16:19:39.386915",
     "status": "completed"
    },
    "tags": []
   },
   "outputs": [
    {
     "name": "stdout",
     "output_type": "stream",
     "text": [
      "Confusion Matrix:\n",
      "[[28 27 40  5]\n",
      " [ 7 67 34  7]\n",
      " [ 6 14 83  2]\n",
      " [ 0 14 12 48]]\n"
     ]
    }
   ],
   "source": [
    "print(\"Confusion Matrix:\")\n",
    "print(conf_matrix_VGG16)"
   ]
  },
  {
   "cell_type": "code",
   "execution_count": 40,
   "id": "854ff445",
   "metadata": {
    "execution": {
     "iopub.execute_input": "2024-05-13T16:19:39.486702Z",
     "iopub.status.busy": "2024-05-13T16:19:39.486114Z",
     "iopub.status.idle": "2024-05-13T16:19:39.491171Z",
     "shell.execute_reply": "2024-05-13T16:19:39.490227Z"
    },
    "papermill": {
     "duration": 0.038027,
     "end_time": "2024-05-13T16:19:39.493341",
     "exception": false,
     "start_time": "2024-05-13T16:19:39.455314",
     "status": "completed"
    },
    "tags": []
   },
   "outputs": [
    {
     "name": "stdout",
     "output_type": "stream",
     "text": [
      "\n",
      "Classification Report:\n",
      "              precision    recall  f1-score   support\n",
      "\n",
      "           0       0.68      0.28      0.40       100\n",
      "           1       0.55      0.58      0.57       115\n",
      "           2       0.49      0.79      0.61       105\n",
      "           3       0.77      0.65      0.71        74\n",
      "\n",
      "    accuracy                           0.57       394\n",
      "   macro avg       0.62      0.58      0.57       394\n",
      "weighted avg       0.61      0.57      0.56       394\n",
      "\n"
     ]
    }
   ],
   "source": [
    "print(\"\\nClassification Report:\")\n",
    "print(class_report_VGG16)"
   ]
  },
  {
   "cell_type": "code",
   "execution_count": 41,
   "id": "b19490c7",
   "metadata": {
    "execution": {
     "iopub.execute_input": "2024-05-13T16:19:39.557097Z",
     "iopub.status.busy": "2024-05-13T16:19:39.556698Z",
     "iopub.status.idle": "2024-05-13T16:19:39.966113Z",
     "shell.execute_reply": "2024-05-13T16:19:39.965120Z"
    },
    "papermill": {
     "duration": 0.444817,
     "end_time": "2024-05-13T16:19:39.968464",
     "exception": false,
     "start_time": "2024-05-13T16:19:39.523647",
     "status": "completed"
    },
    "tags": []
   },
   "outputs": [
    {
     "data": {
      "image/png": "[encoded data removed]",
      "text/plain": [
       "<Figure size 720x576 with 2 Axes>"
      ]
     },
     "metadata": {
      "needs_background": "light"
     },
     "output_type": "display_data"
    }
   ],
   "source": [
    "# Plot confusion matrix heatmap\n",
    "plt.figure(figsize=(10, 8))\n",
    "plt.title(\"Confusion Matrix Heatmap - VGG16\")\n",
    "sns.heatmap(conf_matrix_VGG16, annot=True, fmt=\"d\", \n",
    "            xticklabels=train_dataset.classes, yticklabels=train_dataset.classes)\n",
    "plt.title(\"Confusion Matrix Heatmap\")\n",
    "plt.xlabel(\"Predicted Label\")\n",
    "plt.ylabel(\"True Label\")\n",
    "plt.xticks(rotation=45, ha=\"right\")\n",
    "plt.yticks(rotation=0)\n",
    "plt.tight_layout()\n",
    "plt.show()"
   ]
  },
  {
   "cell_type": "code",
   "execution_count": 42,
   "id": "ff6d1d14",
   "metadata": {
    "execution": {
     "iopub.execute_input": "2024-05-13T16:19:40.031967Z",
     "iopub.status.busy": "2024-05-13T16:19:40.031284Z",
     "iopub.status.idle": "2024-05-13T16:19:43.590120Z",
     "shell.execute_reply": "2024-05-13T16:19:43.589167Z"
    },
    "papermill": {
     "duration": 3.593228,
     "end_time": "2024-05-13T16:19:43.592678",
     "exception": false,
     "start_time": "2024-05-13T16:19:39.999450",
     "status": "completed"
    },
    "tags": []
   },
   "outputs": [
    {
     "name": "stdout",
     "output_type": "stream",
     "text": [
      "Model Name: GNN-VGG16\n"
     ]
    },
    {
     "data": {
      "image/png": "[encoded data removed]",
      "text/plain": [
       "<Figure size 576x432 with 1 Axes>"
      ]
     },
     "metadata": {
      "needs_background": "light"
     },
     "output_type": "display_data"
    }
   ],
   "source": [
    "class_names = ['glioma_tumor', 'meningioma_tumor', 'no_tumor', 'pituitary_tumor']\n",
    "plot_roc_curve(\"GNN-VGG16\", model_VGG16, test_loader, num_classes=4)\n"
   ]
  },
  {
   "cell_type": "code",
   "execution_count": 43,
   "id": "0840143d",
   "metadata": {
    "execution": {
     "iopub.execute_input": "2024-05-13T16:19:43.658148Z",
     "iopub.status.busy": "2024-05-13T16:19:43.657790Z",
     "iopub.status.idle": "2024-05-13T16:19:43.665624Z",
     "shell.execute_reply": "2024-05-13T16:19:43.664332Z"
    },
    "papermill": {
     "duration": 0.043872,
     "end_time": "2024-05-13T16:19:43.668444",
     "exception": false,
     "start_time": "2024-05-13T16:19:43.624572",
     "status": "completed"
    },
    "tags": []
   },
   "outputs": [
    {
     "name": "stdout",
     "output_type": "stream",
     "text": [
      "╒══════════════════════╤═════════════════╕\n",
      "│ Model                │   Test Accuracy │\n",
      "╞══════════════════════╪═════════════════╡\n",
      "│ GraphCNN_VGG16       │        0.418782 │\n",
      "├──────────────────────┼─────────────────┤\n",
      "│ GraphCNN_Densenet121 │        0.388325 │\n",
      "├──────────────────────┼─────────────────┤\n",
      "│ GraphCNN_Resnet18    │        0.560914 │\n",
      "╘══════════════════════╧═════════════════╛\n"
     ]
    }
   ],
   "source": [
    "\n",
    "# Test accuracies obtained for each model\n",
    "accuracies = [\n",
    "    (\"GraphCNN_VGG16\", acc_VGG16),\n",
    "    (\"GraphCNN_Densenet121\", acc_Densenet121),\n",
    "    (\"GraphCNN_Resnet18\", acc_Resnet18),\n",
    "]\n",
    "\n",
    "# Print the accuracies in a visually appealing table (fancy_grid format)\n",
    "table_str = tabulate(accuracies, headers=[\"Model\", \"Test Accuracy\"], tablefmt=\"fancy_grid\")\n",
    "\n",
    "# Display the table\n",
    "print(table_str)\n"
   ]
  },
  {
   "cell_type": "code",
   "execution_count": 44,
   "id": "172454f3",
   "metadata": {
    "execution": {
     "iopub.execute_input": "2024-05-13T16:19:43.732558Z",
     "iopub.status.busy": "2024-05-13T16:19:43.732243Z",
     "iopub.status.idle": "2024-05-13T16:19:43.738418Z",
     "shell.execute_reply": "2024-05-13T16:19:43.737552Z"
    },
    "papermill": {
     "duration": 0.040448,
     "end_time": "2024-05-13T16:19:43.740616",
     "exception": false,
     "start_time": "2024-05-13T16:19:43.700168",
     "status": "completed"
    },
    "tags": []
   },
   "outputs": [
    {
     "data": {
      "text/plain": [
       "['glioma_tumor', 'meningioma_tumor', 'no_tumor', 'pituitary_tumor']"
      ]
     },
     "execution_count": 44,
     "metadata": {},
     "output_type": "execute_result"
    }
   ],
   "source": [
    "train_dataset.classes"
   ]
  },
  {
   "cell_type": "code",
   "execution_count": null,
   "id": "807d37cd",
   "metadata": {
    "papermill": {
     "duration": 0.031338,
     "end_time": "2024-05-13T16:19:43.802971",
     "exception": false,
     "start_time": "2024-05-13T16:19:43.771633",
     "status": "completed"
    },
    "tags": []
   },
   "outputs": [],
   "source": []
  },
  {
   "cell_type": "markdown",
   "id": "a84e1e5a",
   "metadata": {
    "papermill": {
     "duration": 0.031373,
     "end_time": "2024-05-13T16:19:43.866244",
     "exception": false,
     "start_time": "2024-05-13T16:19:43.834871",
     "status": "completed"
    },
    "tags": []
   },
   "source": [
    "****Predictions"
   ]
  },
  {
   "cell_type": "code",
   "execution_count": 45,
   "id": "b8860e91",
   "metadata": {
    "execution": {
     "iopub.execute_input": "2024-05-13T16:19:43.931151Z",
     "iopub.status.busy": "2024-05-13T16:19:43.930413Z",
     "iopub.status.idle": "2024-05-13T16:19:46.109726Z",
     "shell.execute_reply": "2024-05-13T16:19:46.108674Z"
    },
    "papermill": {
     "duration": 2.214265,
     "end_time": "2024-05-13T16:19:46.112065",
     "exception": false,
     "start_time": "2024-05-13T16:19:43.897800",
     "status": "completed"
    },
    "tags": []
   },
   "outputs": [
    {
     "data": {
      "text/plain": [
       "GraphCNN_VGG16(\n",
       "  (vgg16): VGG(\n",
       "    (features): Sequential(\n",
       "      (0): Conv2d(3, 64, kernel_size=(3, 3), stride=(1, 1), padding=(1, 1))\n",
       "      (1): ReLU(inplace=True)\n",
       "      (2): Conv2d(64, 64, kernel_size=(3, 3), stride=(1, 1), padding=(1, 1))\n",
       "      (3): ReLU(inplace=True)\n",
       "      (4): MaxPool2d(kernel_size=2, stride=2, padding=0, dilation=1, ceil_mode=False)\n",
       "      (5): Conv2d(64, 128, kernel_size=(3, 3), stride=(1, 1), padding=(1, 1))\n",
       "      (6): ReLU(inplace=True)\n",
       "      (7): Conv2d(128, 128, kernel_size=(3, 3), stride=(1, 1), padding=(1, 1))\n",
       "      (8): ReLU(inplace=True)\n",
       "      (9): MaxPool2d(kernel_size=2, stride=2, padding=0, dilation=1, ceil_mode=False)\n",
       "      (10): Conv2d(128, 256, kernel_size=(3, 3), stride=(1, 1), padding=(1, 1))\n",
       "      (11): ReLU(inplace=True)\n",
       "      (12): Conv2d(256, 256, kernel_size=(3, 3), stride=(1, 1), padding=(1, 1))\n",
       "      (13): ReLU(inplace=True)\n",
       "      (14): Conv2d(256, 256, kernel_size=(3, 3), stride=(1, 1), padding=(1, 1))\n",
       "      (15): ReLU(inplace=True)\n",
       "      (16): MaxPool2d(kernel_size=2, stride=2, padding=0, dilation=1, ceil_mode=False)\n",
       "      (17): Conv2d(256, 512, kernel_size=(3, 3), stride=(1, 1), padding=(1, 1))\n",
       "      (18): ReLU(inplace=True)\n",
       "      (19): Conv2d(512, 512, kernel_size=(3, 3), stride=(1, 1), padding=(1, 1))\n",
       "      (20): ReLU(inplace=True)\n",
       "      (21): Conv2d(512, 512, kernel_size=(3, 3), stride=(1, 1), padding=(1, 1))\n",
       "      (22): ReLU(inplace=True)\n",
       "      (23): MaxPool2d(kernel_size=2, stride=2, padding=0, dilation=1, ceil_mode=False)\n",
       "      (24): Conv2d(512, 512, kernel_size=(3, 3), stride=(1, 1), padding=(1, 1))\n",
       "      (25): ReLU(inplace=True)\n",
       "      (26): Conv2d(512, 512, kernel_size=(3, 3), stride=(1, 1), padding=(1, 1))\n",
       "      (27): ReLU(inplace=True)\n",
       "      (28): Conv2d(512, 512, kernel_size=(3, 3), stride=(1, 1), padding=(1, 1))\n",
       "      (29): ReLU(inplace=True)\n",
       "      (30): MaxPool2d(kernel_size=2, stride=2, padding=0, dilation=1, ceil_mode=False)\n",
       "    )\n",
       "    (avgpool): AdaptiveAvgPool2d(output_size=(7, 7))\n",
       "    (classifier): Sequential(\n",
       "      (0): Linear(in_features=25088, out_features=4096, bias=True)\n",
       "      (1): ReLU(inplace=True)\n",
       "      (2): Dropout(p=0.5, inplace=False)\n",
       "      (3): Linear(in_features=4096, out_features=4096, bias=True)\n",
       "      (4): ReLU(inplace=True)\n",
       "      (5): Dropout(p=0.5, inplace=False)\n",
       "      (6): Linear(in_features=4096, out_features=1000, bias=True)\n",
       "    )\n",
       "  )\n",
       "  (conv1): GATConv(512, 256, heads=1)\n",
       "  (dropout): Dropout(p=0.5, inplace=False)\n",
       "  (conv2): GATConv(256, 4, heads=1)\n",
       ")"
      ]
     },
     "execution_count": 45,
     "metadata": {},
     "output_type": "execute_result"
    }
   ],
   "source": [
    "class_names = ['glioma_tumor', 'meningioma_tumor', 'no_tumor', 'pituitary_tumor']\n",
    "import torch\n",
    "from PIL import Image\n",
    "import torchvision.transforms as transforms\n",
    "\n",
    "# Add the dataset before running this cell (explained above) \n",
    "load_path = \"/kaggle/input/data-set/models/model_VGG_complete.pth\" \n",
    "model_VGG = torch.load(load_path)\n",
    "model_VGG.eval() "
   ]
  },
  {
   "cell_type": "code",
   "execution_count": 46,
   "id": "6cfed2f3",
   "metadata": {
    "execution": {
     "iopub.execute_input": "2024-05-13T16:19:46.177306Z",
     "iopub.status.busy": "2024-05-13T16:19:46.176991Z",
     "iopub.status.idle": "2024-05-13T16:19:46.345654Z",
     "shell.execute_reply": "2024-05-13T16:19:46.344798Z"
    },
    "papermill": {
     "duration": 0.203581,
     "end_time": "2024-05-13T16:19:46.347879",
     "exception": false,
     "start_time": "2024-05-13T16:19:46.144298",
     "status": "completed"
    },
    "tags": []
   },
   "outputs": [
    {
     "data": {
      "image/png": "[encoded data removed]",
      "text/plain": [
       "<Figure size 432x288 with 1 Axes>"
      ]
     },
     "metadata": {
      "needs_background": "light"
     },
     "output_type": "display_data"
    }
   ],
   "source": [
    "from PIL import Image\n",
    "import matplotlib.pyplot as plt\n",
    "\n",
    "# Load the image\n",
    "image_path = \"/kaggle/input/brain-tumor-classification-mri/Training/glioma_tumor/gg (3).jpg\"\n",
    "image = Image.open(image_path)\n",
    "\n",
    "# Display the original image\n",
    "plt.figure()\n",
    "plt.imshow(image)  \n",
    "plt.show()\n",
    "from PIL import Image\n",
    "import torchvision.transforms as transforms\n",
    "\n",
    "#  Load the image\n",
    "image = Image.open(image_path)\n",
    "\n",
    "# Apply the same transformations used during training\n",
    "data_transform = transforms.Compose([\n",
    "    transforms.Resize((224, 224)),\n",
    "    transforms.RandomHorizontalFlip(),\n",
    "    transforms.ToTensor(),\n",
    "    transforms.Normalize((0.5, 0.5, 0.5), (0.5, 0.5, 0.5))\n",
    "])\n",
    "\n",
    "image_tensor = data_transform(image)"
   ]
  },
  {
   "cell_type": "code",
   "execution_count": 47,
   "id": "dfef6604",
   "metadata": {
    "execution": {
     "iopub.execute_input": "2024-05-13T16:19:46.414395Z",
     "iopub.status.busy": "2024-05-13T16:19:46.414020Z",
     "iopub.status.idle": "2024-05-13T16:19:46.431402Z",
     "shell.execute_reply": "2024-05-13T16:19:46.430328Z"
    },
    "papermill": {
     "duration": 0.052837,
     "end_time": "2024-05-13T16:19:46.433557",
     "exception": false,
     "start_time": "2024-05-13T16:19:46.380720",
     "status": "completed"
    },
    "tags": []
   },
   "outputs": [
    {
     "name": "stdout",
     "output_type": "stream",
     "text": [
      "Predicted Class: glioma_tumor\n"
     ]
    }
   ],
   "source": [
    "image_tensor = image_tensor.unsqueeze(0)\n",
    "\n",
    "# Ensure model is in evaluation mode and on the appropriate device\n",
    "model_VGG.eval()\n",
    "model_VGG.to(device) \n",
    "\n",
    "# Get the model's prediction (no gradients needed)\n",
    "with torch.no_grad():\n",
    "    output = model_VGG(image_tensor.type(dtype).to(device))\n",
    "    predicted_class_index = int(torch.argmax(output)) \n",
    "\n",
    "# Access the corresponding class name\n",
    "predicted_class_name = class_names[predicted_class_index] \n",
    "\n",
    "print(\"Predicted Class:\", predicted_class_name)"
   ]
  },
  {
   "cell_type": "code",
   "execution_count": null,
   "id": "7750a2fd",
   "metadata": {
    "papermill": {
     "duration": 0.03263,
     "end_time": "2024-05-13T16:19:46.498716",
     "exception": false,
     "start_time": "2024-05-13T16:19:46.466086",
     "status": "completed"
    },
    "tags": []
   },
   "outputs": [],
   "source": []
  },
  {
   "cell_type": "code",
   "execution_count": null,
   "id": "4c3cf30a",
   "metadata": {
    "papermill": {
     "duration": 0.033018,
     "end_time": "2024-05-13T16:19:46.564638",
     "exception": false,
     "start_time": "2024-05-13T16:19:46.531620",
     "status": "completed"
    },
    "tags": []
   },
   "outputs": [],
   "source": []
  },
  {
   "cell_type": "code",
   "execution_count": null,
   "id": "e7866354",
   "metadata": {
    "papermill": {
     "duration": 0.032491,
     "end_time": "2024-05-13T16:19:46.630314",
     "exception": false,
     "start_time": "2024-05-13T16:19:46.597823",
     "status": "completed"
    },
    "tags": []
   },
   "outputs": [],
   "source": []
  },
  {
   "cell_type": "markdown",
   "id": "557b5bcc",
   "metadata": {
    "papermill": {
     "duration": 0.032249,
     "end_time": "2024-05-13T16:19:46.694807",
     "exception": false,
     "start_time": "2024-05-13T16:19:46.662558",
     "status": "completed"
    },
    "tags": []
   },
   "source": [
    "* Resnet - 18"
   ]
  },
  {
   "cell_type": "code",
   "execution_count": 48,
   "id": "a337cdff",
   "metadata": {
    "execution": {
     "iopub.execute_input": "2024-05-13T16:19:46.761489Z",
     "iopub.status.busy": "2024-05-13T16:19:46.760775Z",
     "iopub.status.idle": "2024-05-13T16:19:46.768068Z",
     "shell.execute_reply": "2024-05-13T16:19:46.767133Z"
    },
    "papermill": {
     "duration": 0.042921,
     "end_time": "2024-05-13T16:19:46.770209",
     "exception": false,
     "start_time": "2024-05-13T16:19:46.727288",
     "status": "completed"
    },
    "tags": []
   },
   "outputs": [],
   "source": [
    "import torch\n",
    "import torchvision.transforms as transforms\n",
    "from PIL import Image\n",
    "\n",
    "def preprocess_image(image_path):\n",
    "    transform = transforms.Compose([\n",
    "        transforms.Resize((224, 224)),\n",
    "        transforms.ToTensor(),\n",
    "        transforms.Normalize((0.5, 0.5, 0.5), (0.5, 0.5, 0.5))\n",
    "    ])\n",
    "    image = Image.open(image_path)\n",
    "    image = transform(image).unsqueeze(0)  # Add batch dimension\n",
    "    image = image.type(torch.cuda.HalfTensor)  # Convert to half precision\n",
    "    return image"
   ]
  },
  {
   "cell_type": "code",
   "execution_count": 49,
   "id": "aabdd26c",
   "metadata": {
    "execution": {
     "iopub.execute_input": "2024-05-13T16:19:46.835894Z",
     "iopub.status.busy": "2024-05-13T16:19:46.835616Z",
     "iopub.status.idle": "2024-05-13T16:19:46.840638Z",
     "shell.execute_reply": "2024-05-13T16:19:46.839759Z"
    },
    "papermill": {
     "duration": 0.040675,
     "end_time": "2024-05-13T16:19:46.842852",
     "exception": false,
     "start_time": "2024-05-13T16:19:46.802177",
     "status": "completed"
    },
    "tags": []
   },
   "outputs": [],
   "source": [
    "def extract_features(model, image_path):\n",
    "    image_tensor = preprocess_image(image_path)\n",
    "    model.eval()\n",
    "    with torch.no_grad():\n",
    "        features = model.forward_features(image_tensor)\n",
    "    return features"
   ]
  },
  {
   "cell_type": "code",
   "execution_count": 50,
   "id": "cecd0fe0",
   "metadata": {
    "execution": {
     "iopub.execute_input": "2024-05-13T16:19:46.909448Z",
     "iopub.status.busy": "2024-05-13T16:19:46.909153Z",
     "iopub.status.idle": "2024-05-13T16:19:46.913419Z",
     "shell.execute_reply": "2024-05-13T16:19:46.912478Z"
    },
    "papermill": {
     "duration": 0.040087,
     "end_time": "2024-05-13T16:19:46.915743",
     "exception": false,
     "start_time": "2024-05-13T16:19:46.875656",
     "status": "completed"
    },
    "tags": []
   },
   "outputs": [],
   "source": [
    "image_path = \"/kaggle/input/brain-tumor-classification-mri/Testing/glioma_tumor/image(100).jpg\""
   ]
  },
  {
   "cell_type": "code",
   "execution_count": 51,
   "id": "4168d995",
   "metadata": {
    "execution": {
     "iopub.execute_input": "2024-05-13T16:19:46.981681Z",
     "iopub.status.busy": "2024-05-13T16:19:46.981368Z",
     "iopub.status.idle": "2024-05-13T16:19:47.006993Z",
     "shell.execute_reply": "2024-05-13T16:19:47.005717Z"
    },
    "papermill": {
     "duration": 0.06105,
     "end_time": "2024-05-13T16:19:47.009269",
     "exception": false,
     "start_time": "2024-05-13T16:19:46.948219",
     "status": "completed"
    },
    "tags": []
   },
   "outputs": [
    {
     "name": "stdout",
     "output_type": "stream",
     "text": [
      "VGG16 Features : tensor([[[[0.0000, 0.0000, 0.0000,  ..., 0.0000, 0.0000, 0.0000],\n",
      "          [0.0000, 0.0000, 0.0000,  ..., 0.0000, 0.0000, 0.0000],\n",
      "          [0.0000, 0.6270, 0.0000,  ..., 1.4131, 2.0801, 0.3433],\n",
      "          ...,\n",
      "          [0.0000, 0.0397, 1.3633,  ..., 0.4336, 0.8657, 0.0000],\n",
      "          [0.0000, 0.0000, 0.0000,  ..., 0.0000, 0.0000, 0.0000],\n",
      "          [0.0000, 0.0000, 0.0000,  ..., 0.0000, 0.0000, 0.0000]],\n",
      "\n",
      "         [[0.0000, 0.0000, 0.0000,  ..., 0.0000, 0.0000, 0.0000],\n",
      "          [0.0000, 0.0000, 0.0000,  ..., 0.0000, 0.0000, 0.0000],\n",
      "          [0.0000, 0.0000, 0.0000,  ..., 0.0000, 0.0000, 0.0000],\n",
      "          ...,\n",
      "          [0.5688, 0.0000, 0.0000,  ..., 0.0000, 0.0000, 0.0000],\n",
      "          [0.2795, 0.0000, 0.0000,  ..., 0.0000, 0.0000, 0.0000],\n",
      "          [0.0000, 0.0000, 0.0000,  ..., 0.0000, 0.0000, 0.0000]],\n",
      "\n",
      "         [[0.7656, 1.7666, 1.5361,  ..., 0.0000, 1.3643, 0.5195],\n",
      "          [0.1824, 0.5469, 0.0000,  ..., 0.0000, 0.0000, 0.0000],\n",
      "          [0.3789, 0.0505, 0.0000,  ..., 0.0000, 0.0000, 0.0000],\n",
      "          ...,\n",
      "          [0.0000, 0.4065, 0.7583,  ..., 0.0000, 0.0000, 0.0000],\n",
      "          [0.0000, 0.0000, 0.4172,  ..., 0.0000, 0.0000, 0.5615],\n",
      "          [0.0000, 0.0000, 0.0000,  ..., 0.0000, 0.0000, 0.0000]],\n",
      "\n",
      "         ...,\n",
      "\n",
      "         [[0.0000, 0.0000, 0.0000,  ..., 0.0000, 0.0000, 0.0000],\n",
      "          [0.0000, 0.0000, 0.0000,  ..., 0.0000, 0.0000, 0.0000],\n",
      "          [0.0000, 0.3660, 0.0000,  ..., 0.0000, 0.0000, 0.0000],\n",
      "          ...,\n",
      "          [0.0000, 0.0000, 0.0000,  ..., 0.0000, 0.0000, 0.0000],\n",
      "          [0.0000, 0.0000, 0.0000,  ..., 0.0000, 0.0000, 0.0000],\n",
      "          [0.0000, 0.0000, 0.0000,  ..., 0.0000, 0.0000, 0.0000]],\n",
      "\n",
      "         [[0.0000, 0.0000, 0.0000,  ..., 0.0000, 0.0000, 0.0000],\n",
      "          [0.0000, 0.0000, 0.0000,  ..., 0.0000, 0.0000, 0.0000],\n",
      "          [0.0000, 0.0000, 0.0000,  ..., 0.0000, 0.0000, 0.0000],\n",
      "          ...,\n",
      "          [0.9082, 0.3682, 0.0000,  ..., 0.0000, 0.0000, 0.0000],\n",
      "          [0.0000, 0.0000, 0.0000,  ..., 0.0000, 0.0000, 0.0000],\n",
      "          [0.0000, 0.0000, 0.0000,  ..., 0.0000, 0.0000, 0.0000]],\n",
      "\n",
      "         [[0.0000, 0.0000, 0.0000,  ..., 0.0000, 0.0000, 0.0000],\n",
      "          [0.0000, 0.0000, 0.0000,  ..., 0.0000, 0.0000, 0.0000],\n",
      "          [0.0000, 0.0000, 0.0000,  ..., 0.0000, 0.0000, 0.0000],\n",
      "          ...,\n",
      "          [0.0000, 0.0000, 0.0000,  ..., 0.0000, 0.0000, 0.0000],\n",
      "          [0.0000, 0.0000, 0.0000,  ..., 0.0000, 0.0000, 0.0000],\n",
      "          [0.0000, 0.0000, 0.0000,  ..., 0.0000, 0.0000, 0.0000]]]],\n",
      "       device='cuda:0', dtype=torch.float16)\n"
     ]
    }
   ],
   "source": [
    "# Extract features using VGG16 model\n",
    "vgg16_features = extract_features(model_VGG16, image_path)\n",
    "VGG16_Features_Shape = vgg16_features.shape\n",
    "print(\"VGG16 Features :\", vgg16_features)"
   ]
  },
  {
   "cell_type": "code",
   "execution_count": 52,
   "id": "466cbd54",
   "metadata": {
    "execution": {
     "iopub.execute_input": "2024-05-13T16:19:47.077214Z",
     "iopub.status.busy": "2024-05-13T16:19:47.076861Z",
     "iopub.status.idle": "2024-05-13T16:19:47.141286Z",
     "shell.execute_reply": "2024-05-13T16:19:47.140368Z"
    },
    "papermill": {
     "duration": 0.103361,
     "end_time": "2024-05-13T16:19:47.145590",
     "exception": false,
     "start_time": "2024-05-13T16:19:47.042229",
     "status": "completed"
    },
    "tags": []
   },
   "outputs": [
    {
     "name": "stdout",
     "output_type": "stream",
     "text": [
      "DenseNet121 Features : tensor([[[[ 9.1791e-04,  7.7629e-04,  3.8886e-04,  ...,  6.8808e-04,\n",
      "            2.2924e-04, -1.3113e-04],\n",
      "          [ 1.3905e-03,  5.4264e-04,  8.1635e-04,  ...,  1.1635e-03,\n",
      "            6.8426e-04,  1.2817e-03],\n",
      "          [ 7.6818e-04, -4.6134e-05, -8.2922e-04,  ...,  8.5306e-04,\n",
      "            4.1485e-04,  6.4230e-04],\n",
      "          ...,\n",
      "          [ 7.8344e-04,  9.0981e-04,  2.0611e-04,  ..., -3.4928e-04,\n",
      "            2.8014e-04,  4.3058e-04],\n",
      "          [ 9.8801e-04, -3.2902e-04, -5.2214e-04,  ..., -8.9645e-04,\n",
      "            4.1771e-04,  8.5449e-04],\n",
      "          [-4.7636e-04, -2.1327e-04, -7.7391e-04,  ..., -9.4032e-04,\n",
      "           -5.3406e-04, -2.4045e-04]],\n",
      "\n",
      "         [[ 1.4503e-02,  9.0332e-03,  5.5361e-04,  ...,  1.3687e-02,\n",
      "            6.8951e-04,  2.1912e-02],\n",
      "          [ 4.2381e-03,  6.2370e-03, -2.0962e-03,  ..., -1.7014e-03,\n",
      "            8.9340e-03,  1.7471e-02],\n",
      "          [ 1.6127e-03,  9.1171e-03,  4.3221e-03,  ...,  7.8506e-03,\n",
      "            1.2367e-02,  1.5236e-02],\n",
      "          ...,\n",
      "          [-6.4993e-04,  1.7118e-03,  1.0689e-02,  ...,  7.2670e-03,\n",
      "            2.3766e-03,  5.4932e-03],\n",
      "          [ 1.4465e-02,  6.2370e-04,  1.3687e-02,  ..., -1.7176e-03,\n",
      "           -6.5994e-03,  1.5045e-02],\n",
      "          [-7.6294e-03, -1.3962e-03,  6.2408e-03,  ...,  1.0750e-02,\n",
      "            1.6460e-03,  1.6336e-03]],\n",
      "\n",
      "         [[ 1.9928e-02,  1.6281e-02,  3.4523e-04,  ...,  2.4092e-04,\n",
      "            1.1925e-02,  1.7181e-02],\n",
      "          [ 1.2665e-02,  3.0708e-03,  4.2558e-04,  ...,  1.7881e-03,\n",
      "           -4.4022e-03,  1.5121e-02],\n",
      "          [ 1.0117e-02,  6.1264e-03,  1.3512e-02,  ...,  8.8120e-03,\n",
      "            1.3981e-03,  5.2071e-03],\n",
      "          ...,\n",
      "          [ 1.0651e-02,  6.2370e-03,  7.9346e-03,  ...,  4.6005e-03,\n",
      "            2.6207e-03,  3.4752e-03],\n",
      "          [ 8.3847e-03,  2.2774e-03,  5.0240e-03,  ...,  1.1635e-02,\n",
      "            1.0788e-02,  1.1681e-02],\n",
      "          [ 3.2997e-03,  1.1894e-02,  3.8052e-03,  ...,  3.2940e-03,\n",
      "            8.2932e-03,  1.1108e-02]],\n",
      "\n",
      "         ...,\n",
      "\n",
      "         [[-7.1045e-01, -1.1074e+00, -1.0781e+00,  ..., -3.1543e-01,\n",
      "            3.6816e-01,  1.8872e-01],\n",
      "          [-8.0762e-01,  9.5557e-01,  1.8037e+00,  ...,  3.9844e-01,\n",
      "            1.1719e-01,  3.3594e-01],\n",
      "          [-1.0410e+00,  5.9961e-01,  1.1406e+00,  ...,  1.0898e+00,\n",
      "            2.6929e-01,  2.1753e-01],\n",
      "          ...,\n",
      "          [-5.5127e-01, -1.0723e+00, -1.2441e+00,  ...,  1.7285e-01,\n",
      "           -1.1292e-03,  4.2529e-01],\n",
      "          [ 3.1494e-01,  6.7041e-01, -1.6113e-01,  ...,  1.2383e+00,\n",
      "            1.3359e+00,  4.5972e-01],\n",
      "          [ 4.3677e-01,  9.0527e-01, -2.3096e-01,  ...,  4.5728e-01,\n",
      "            8.1738e-01,  6.0516e-02]],\n",
      "\n",
      "         [[ 1.0156e+00,  1.2803e+00,  6.1670e-01,  ...,  8.6523e-01,\n",
      "            1.9639e+00,  1.8496e+00],\n",
      "          [ 8.4180e-01,  8.5889e-01,  2.2913e-01,  ...,  1.4102e+00,\n",
      "            3.0391e+00,  2.4023e+00],\n",
      "          [ 3.1250e-01, -1.0815e-01,  2.3079e-03,  ..., -5.6152e-01,\n",
      "           -1.0474e-01, -2.2046e-01],\n",
      "          ...,\n",
      "          [ 3.2300e-01,  1.1615e-01, -2.8711e-01,  ..., -5.3125e-01,\n",
      "           -7.1680e-01, -7.9736e-01],\n",
      "          [ 3.5571e-01, -9.5154e-02, -2.6050e-01,  ..., -5.4541e-01,\n",
      "           -5.1562e-01, -9.2480e-01],\n",
      "          [ 6.3037e-01,  2.5928e-01, -1.1951e-01,  ..., -2.0215e-01,\n",
      "            4.6478e-02, -5.9570e-01]],\n",
      "\n",
      "         [[ 2.2339e-01,  4.0503e-01, -1.3867e-01,  ..., -7.9590e-01,\n",
      "           -1.2910e+00, -9.2480e-01],\n",
      "          [-5.8899e-02,  6.2744e-01, -2.3389e-01,  ..., -5.1660e-01,\n",
      "           -1.2188e+00, -8.3447e-01],\n",
      "          [ 1.1005e-01,  8.4961e-01,  6.9580e-01,  ...,  5.2686e-01,\n",
      "           -2.5391e-01,  1.0162e-01],\n",
      "          ...,\n",
      "          [ 7.6562e-01,  9.5264e-01,  1.9922e-01,  ...,  1.7603e-01,\n",
      "            2.1387e-01,  6.6345e-02],\n",
      "          [ 1.2363e+00,  1.1875e+00, -9.5410e-01,  ..., -9.0881e-02,\n",
      "            1.6611e+00,  1.4219e+00],\n",
      "          [ 1.4600e+00,  1.4453e+00, -7.5195e-01,  ..., -2.6318e-01,\n",
      "            8.9600e-01,  6.9434e-01]]]], device='cuda:0', dtype=torch.float16)\n"
     ]
    }
   ],
   "source": [
    "# Extract features using DenseNet121 model\n",
    "densenet121_features = extract_features(model_Densenet121, image_path)\n",
    "DenseNet121_Features_Shape = densenet121_features.shape\n",
    "print(\"DenseNet121 Features :\", densenet121_features)\n",
    "\n"
   ]
  },
  {
   "cell_type": "code",
   "execution_count": 53,
   "id": "a9c49e7b",
   "metadata": {
    "execution": {
     "iopub.execute_input": "2024-05-13T16:19:47.221420Z",
     "iopub.status.busy": "2024-05-13T16:19:47.220448Z",
     "iopub.status.idle": "2024-05-13T16:19:47.251658Z",
     "shell.execute_reply": "2024-05-13T16:19:47.249969Z"
    },
    "papermill": {
     "duration": 0.068377,
     "end_time": "2024-05-13T16:19:47.253820",
     "exception": false,
     "start_time": "2024-05-13T16:19:47.185443",
     "status": "completed"
    },
    "tags": []
   },
   "outputs": [
    {
     "name": "stdout",
     "output_type": "stream",
     "text": [
      "ResNet18 Features : tensor([[[[0.0000, 0.7944, 0.9844,  ..., 0.1926, 0.2200, 0.0000],\n",
      "          [0.3647, 1.2275, 1.0303,  ..., 0.2000, 0.9253, 0.5146],\n",
      "          [0.0000, 0.7061, 2.3320,  ..., 1.8535, 1.5234, 1.0635],\n",
      "          ...,\n",
      "          [0.1025, 0.0000, 0.0000,  ..., 0.4585, 0.9766, 1.8301],\n",
      "          [0.0000, 0.0000, 0.0000,  ..., 0.0301, 0.7720, 1.5703],\n",
      "          [0.0000, 0.0000, 0.0000,  ..., 0.5933, 0.6890, 0.7075]],\n",
      "\n",
      "         [[0.0000, 0.0000, 0.0000,  ..., 0.0000, 0.0000, 0.0000],\n",
      "          [0.0000, 0.0000, 0.0000,  ..., 0.0000, 0.0000, 0.0000],\n",
      "          [0.0000, 0.4492, 0.0000,  ..., 0.0000, 0.6167, 0.6240],\n",
      "          ...,\n",
      "          [0.6406, 0.2891, 0.0000,  ..., 0.5562, 0.9399, 1.1201],\n",
      "          [0.7041, 0.0000, 0.0000,  ..., 0.8774, 1.1221, 1.3164],\n",
      "          [0.0000, 0.0000, 0.0000,  ..., 0.5225, 0.3345, 0.6221]],\n",
      "\n",
      "         [[0.0000, 0.0000, 0.0000,  ..., 0.0000, 0.0000, 0.0000],\n",
      "          [0.0000, 0.0000, 0.0000,  ..., 0.0000, 0.0000, 0.0000],\n",
      "          [0.0000, 0.0000, 0.4233,  ..., 0.8267, 0.5444, 0.3323],\n",
      "          ...,\n",
      "          [0.1738, 0.2822, 1.4473,  ..., 1.1777, 0.2522, 0.0000],\n",
      "          [0.0000, 0.0000, 0.0000,  ..., 0.0000, 0.0000, 0.0000],\n",
      "          [0.0000, 0.0000, 0.0000,  ..., 0.0000, 0.0000, 0.0000]],\n",
      "\n",
      "         ...,\n",
      "\n",
      "         [[0.0000, 0.0000, 0.0000,  ..., 0.0000, 0.0000, 0.0000],\n",
      "          [0.0000, 0.0000, 0.0000,  ..., 0.0000, 0.0000, 0.0000],\n",
      "          [0.0000, 0.0000, 0.0000,  ..., 0.0000, 0.0000, 0.0000],\n",
      "          ...,\n",
      "          [0.0000, 0.0000, 0.1335,  ..., 0.0000, 0.0000, 0.0000],\n",
      "          [0.0000, 0.0000, 0.0000,  ..., 0.0000, 0.0000, 0.0000],\n",
      "          [0.0000, 0.0000, 0.0000,  ..., 0.0000, 0.0000, 0.0840]],\n",
      "\n",
      "         [[0.0000, 0.6343, 2.5312,  ..., 0.6230, 0.0000, 0.0000],\n",
      "          [0.0060, 1.3604, 3.5781,  ..., 2.0156, 0.0000, 0.0000],\n",
      "          [0.0000, 1.1729, 3.6309,  ..., 2.9922, 1.2295, 1.3848],\n",
      "          ...,\n",
      "          [0.3787, 0.0251, 0.1337,  ..., 0.5361, 1.1719, 1.3350],\n",
      "          [0.0605, 0.0857, 1.0391,  ..., 1.4795, 0.6416, 0.3296],\n",
      "          [0.4426, 0.8730, 1.7393,  ..., 1.0957, 0.3357, 0.9175]],\n",
      "\n",
      "         [[0.3586, 0.9292, 1.8096,  ..., 2.0391, 1.9082, 0.6016],\n",
      "          [1.1562, 1.6094, 2.5840,  ..., 2.9746, 3.0430, 1.5527],\n",
      "          [2.0918, 2.9258, 4.3086,  ..., 4.1797, 3.5762, 2.2324],\n",
      "          ...,\n",
      "          [3.3105, 4.0742, 4.2344,  ..., 1.5146, 1.4863, 2.1191],\n",
      "          [3.0566, 3.5098, 3.0762,  ..., 0.3882, 0.0000, 0.6113],\n",
      "          [0.8677, 1.5859, 2.1367,  ..., 1.4941, 0.8242, 0.4448]]]],\n",
      "       device='cuda:0', dtype=torch.float16)\n"
     ]
    }
   ],
   "source": [
    "# Extract features using ResNet18 model\n",
    "resnet18_features = extract_features(model_Resnet18, image_path)\n",
    "ResNet18_Features_Shape = resnet18_features.shape\n",
    "print(\"ResNet18 Features :\", resnet18_features)"
   ]
  },
  {
   "cell_type": "code",
   "execution_count": 54,
   "id": "1c44b82a",
   "metadata": {
    "execution": {
     "iopub.execute_input": "2024-05-13T16:19:47.327889Z",
     "iopub.status.busy": "2024-05-13T16:19:47.327054Z",
     "iopub.status.idle": "2024-05-13T16:19:47.335651Z",
     "shell.execute_reply": "2024-05-13T16:19:47.334356Z"
    },
    "papermill": {
     "duration": 0.046461,
     "end_time": "2024-05-13T16:19:47.338080",
     "exception": false,
     "start_time": "2024-05-13T16:19:47.291619",
     "status": "completed"
    },
    "tags": []
   },
   "outputs": [
    {
     "name": "stdout",
     "output_type": "stream",
     "text": [
      "╒══════════════════════╤═════════════════════════════╕\n",
      "│ Model                │ Test Accuracy               │\n",
      "╞══════════════════════╪═════════════════════════════╡\n",
      "│ ResNet18 Features    │ torch.Size([1, 512, 7, 7])  │\n",
      "├──────────────────────┼─────────────────────────────┤\n",
      "│ DenseNet121 Features │ torch.Size([1, 1024, 7, 7]) │\n",
      "├──────────────────────┼─────────────────────────────┤\n",
      "│ VGG16 Features       │ torch.Size([1, 512, 7, 7])  │\n",
      "╘══════════════════════╧═════════════════════════════╛\n"
     ]
    }
   ],
   "source": [
    "\n",
    "# Test accuracies obtained for each model\n",
    "Features = [\n",
    "    (\"ResNet18 Features\", ResNet18_Features_Shape),\n",
    "    (\"DenseNet121 Features\", DenseNet121_Features_Shape),\n",
    "    (\"VGG16 Features\", VGG16_Features_Shape),\n",
    "]\n",
    "\n",
    "# Print the accuracies in a visually appealing table (fancy_grid format)\n",
    "table_Features = tabulate(Features, headers=[\"Model\", \"Test Accuracy\"], tablefmt=\"fancy_grid\")\n",
    "\n",
    "# Display the table\n",
    "print(table_Features)"
   ]
  },
  {
   "cell_type": "code",
   "execution_count": 55,
   "id": "bdaa839c",
   "metadata": {
    "execution": {
     "iopub.execute_input": "2024-05-13T16:19:47.415639Z",
     "iopub.status.busy": "2024-05-13T16:19:47.415271Z",
     "iopub.status.idle": "2024-05-13T16:19:47.424459Z",
     "shell.execute_reply": "2024-05-13T16:19:47.423444Z"
    },
    "papermill": {
     "duration": 0.055799,
     "end_time": "2024-05-13T16:19:47.427230",
     "exception": false,
     "start_time": "2024-05-13T16:19:47.371431",
     "status": "completed"
    },
    "tags": []
   },
   "outputs": [],
   "source": [
    "def preprocess_image_visualize(image_path):\n",
    "    transform = transforms.Compose([\n",
    "        transforms.Resize((224, 224)),\n",
    "        transforms.ToTensor(),\n",
    "        transforms.Normalize((0.5, 0.5, 0.5), (0.5, 0.5, 0.5))\n",
    "    ])\n",
    "    image = Image.open(image_path)\n",
    "    image = transform(image).unsqueeze(0).to(torch.float16).cuda()  # Convert to half precision and move to GPU\n",
    "    return image\n",
    "\n",
    "def extract_features_visualize(model, image_path):\n",
    "    model.eval()\n",
    "    with torch.no_grad():\n",
    "        image_tensor = preprocess_image_visualize(image_path)\n",
    "        features = model.forward_features(image_tensor)\n",
    "    return features"
   ]
  },
  {
   "cell_type": "code",
   "execution_count": 56,
   "id": "6567b161",
   "metadata": {
    "execution": {
     "iopub.execute_input": "2024-05-13T16:19:47.499865Z",
     "iopub.status.busy": "2024-05-13T16:19:47.499529Z",
     "iopub.status.idle": "2024-05-13T16:19:47.505632Z",
     "shell.execute_reply": "2024-05-13T16:19:47.504606Z"
    },
    "papermill": {
     "duration": 0.042705,
     "end_time": "2024-05-13T16:19:47.507915",
     "exception": false,
     "start_time": "2024-05-13T16:19:47.465210",
     "status": "completed"
    },
    "tags": []
   },
   "outputs": [],
   "source": [
    "def reduce_features(features, n_components=2):\n",
    "    # Flatten the features to (n_samples, n_features)\n",
    "    flattened_features = features.squeeze().cpu().numpy()\n",
    "    flattened_features = flattened_features.reshape(flattened_features.shape[0], -1)\n",
    "    \n",
    "    pca = PCA(n_components=n_components)\n",
    "    reduced_features = pca.fit_transform(flattened_features)\n",
    "    return reduced_features"
   ]
  },
  {
   "cell_type": "code",
   "execution_count": 57,
   "id": "4060b8fe",
   "metadata": {
    "execution": {
     "iopub.execute_input": "2024-05-13T16:19:47.584703Z",
     "iopub.status.busy": "2024-05-13T16:19:47.584360Z",
     "iopub.status.idle": "2024-05-13T16:19:47.753424Z",
     "shell.execute_reply": "2024-05-13T16:19:47.752255Z"
    },
    "papermill": {
     "duration": 0.20982,
     "end_time": "2024-05-13T16:19:47.757482",
     "exception": false,
     "start_time": "2024-05-13T16:19:47.547662",
     "status": "completed"
    },
    "tags": []
   },
   "outputs": [],
   "source": [
    "import torch\n",
    "import torchvision.transforms as transforms\n",
    "from PIL import Image\n",
    "import matplotlib.pyplot as plt\n",
    "from sklearn.decomposition import PCA\n",
    "\n",
    "# Extract features using VGG16 model\n",
    "vgg16_features_visualize = extract_features_visualize(model_VGG16, image_path)\n",
    "reduced_vgg16_features = reduce_features(vgg16_features_visualize)\n"
   ]
  },
  {
   "cell_type": "code",
   "execution_count": 58,
   "id": "7b287fff",
   "metadata": {
    "execution": {
     "iopub.execute_input": "2024-05-13T16:19:47.902010Z",
     "iopub.status.busy": "2024-05-13T16:19:47.901209Z",
     "iopub.status.idle": "2024-05-13T16:19:47.962352Z",
     "shell.execute_reply": "2024-05-13T16:19:47.961171Z"
    },
    "papermill": {
     "duration": 0.098239,
     "end_time": "2024-05-13T16:19:47.964980",
     "exception": false,
     "start_time": "2024-05-13T16:19:47.866741",
     "status": "completed"
    },
    "tags": []
   },
   "outputs": [],
   "source": [
    "# Extract features using DenseNet121 model\n",
    "densenet121_features_visualize = extract_features_visualize(model_Densenet121, image_path)\n",
    "reduced_densenet121_features = reduce_features(densenet121_features_visualize)"
   ]
  },
  {
   "cell_type": "code",
   "execution_count": 59,
   "id": "a066a81b",
   "metadata": {
    "execution": {
     "iopub.execute_input": "2024-05-13T16:19:48.113862Z",
     "iopub.status.busy": "2024-05-13T16:19:48.113546Z",
     "iopub.status.idle": "2024-05-13T16:19:48.137233Z",
     "shell.execute_reply": "2024-05-13T16:19:48.136017Z"
    },
    "papermill": {
     "duration": 0.071188,
     "end_time": "2024-05-13T16:19:48.139710",
     "exception": false,
     "start_time": "2024-05-13T16:19:48.068522",
     "status": "completed"
    },
    "tags": []
   },
   "outputs": [],
   "source": [
    "# Extract features using ResNet18 model\n",
    "resnet18_features_visualize = extract_features_visualize(model_Resnet18, image_path)\n",
    "reduced_resnet18_features = reduce_features(resnet18_features_visualize)"
   ]
  },
  {
   "cell_type": "code",
   "execution_count": 60,
   "id": "9440380b",
   "metadata": {
    "execution": {
     "iopub.execute_input": "2024-05-13T16:19:48.295680Z",
     "iopub.status.busy": "2024-05-13T16:19:48.295364Z",
     "iopub.status.idle": "2024-05-13T16:19:48.789386Z",
     "shell.execute_reply": "2024-05-13T16:19:48.788440Z"
    },
    "papermill": {
     "duration": 0.534218,
     "end_time": "2024-05-13T16:19:48.791878",
     "exception": false,
     "start_time": "2024-05-13T16:19:48.257660",
     "status": "completed"
    },
    "tags": []
   },
   "outputs": [
    {
     "data": {
      "image/png": "[encoded data removed]",
      "text/plain": [
       "<Figure size 864x360 with 3 Axes>"
      ]
     },
     "metadata": {
      "needs_background": "light"
     },
     "output_type": "display_data"
    }
   ],
   "source": [
    "# Plotting\n",
    "plt.figure(figsize=(12, 5))\n",
    "\n",
    "plt.subplot(1, 3, 1)\n",
    "plt.scatter(reduced_vgg16_features[:, 0], reduced_vgg16_features[:, 1])\n",
    "plt.title('VGG16 Features')\n",
    "\n",
    "plt.subplot(1, 3, 2)\n",
    "plt.scatter(reduced_densenet121_features[:, 0], reduced_densenet121_features[:, 1])\n",
    "plt.title('DenseNet121 Features')\n",
    "\n",
    "plt.subplot(1, 3, 3)\n",
    "plt.scatter(reduced_resnet18_features[:, 0], reduced_resnet18_features[:, 1])\n",
    "plt.title('ResNet18 Features')\n",
    "\n",
    "plt.tight_layout()\n",
    "plt.show()"
   ]
  },
  {
   "cell_type": "code",
   "execution_count": null,
   "id": "7ef937db",
   "metadata": {
    "papermill": {
     "duration": 0.03302,
     "end_time": "2024-05-13T16:19:48.858981",
     "exception": false,
     "start_time": "2024-05-13T16:19:48.825961",
     "status": "completed"
    },
    "tags": []
   },
   "outputs": [],
   "source": []
  },
  {
   "cell_type": "code",
   "execution_count": 61,
   "id": "34f6bfa8",
   "metadata": {
    "execution": {
     "iopub.execute_input": "2024-05-13T16:19:48.927704Z",
     "iopub.status.busy": "2024-05-13T16:19:48.927366Z",
     "iopub.status.idle": "2024-05-13T16:19:48.932343Z",
     "shell.execute_reply": "2024-05-13T16:19:48.931466Z"
    },
    "papermill": {
     "duration": 0.041506,
     "end_time": "2024-05-13T16:19:48.934347",
     "exception": false,
     "start_time": "2024-05-13T16:19:48.892841",
     "status": "completed"
    },
    "tags": []
   },
   "outputs": [],
   "source": [
    "# import torch\n",
    "# import torchvision.models as models\n",
    "# import torchvision.transforms as transforms\n",
    "# from PIL import Image\n",
    "# import matplotlib.pyplot as plt\n",
    "\n",
    "# # Load the ResNet-18 model\n",
    "# resnet = models.resnet18(pretrained=True)\n",
    "# resnet.eval()\n",
    "\n",
    "# # Load and preprocess a sample image\n",
    "# image_path = \"/kaggle/input/brain-tumor-classification-mri/Training/glioma_tumor/gg (1).jpg\"\n",
    "# preprocess = transforms.Compose([\n",
    "#     transforms.Resize((224, 224)),\n",
    "#     transforms.ToTensor(),\n",
    "#     transforms.Normalize(mean=[0.485, 0.456, 0.406], std=[0.229, 0.224, 0.225]),\n",
    "# ])\n",
    "# image = Image.open(image_path)\n",
    "# input_tensor = preprocess(image)\n",
    "# input_batch = input_tensor.unsqueeze(0)  # Add batch dimension\n",
    "\n",
    "# # Extract features\n",
    "# with torch.no_grad():\n",
    "#     features = resnet.conv1(input_batch)  # Extract features from the first convolutional layer\n",
    "\n",
    "# # Display extracted features\n",
    "# plt.figure(figsize=(10, 10))\n",
    "# for i in range(64):  # Assuming the first convolutional layer in ResNet-18 has 64 output channels\n",
    "#     plt.subplot(8, 8, i + 1)\n",
    "#     plt.imshow(features[0, i].cpu(), cmap='gray')\n",
    "#     plt.axis('off')\n",
    "# plt.tight_layout()\n",
    "# plt.show()"
   ]
  },
  {
   "cell_type": "code",
   "execution_count": 62,
   "id": "24538199",
   "metadata": {
    "execution": {
     "iopub.execute_input": "2024-05-13T16:19:49.002290Z",
     "iopub.status.busy": "2024-05-13T16:19:49.001990Z",
     "iopub.status.idle": "2024-05-13T16:19:49.006175Z",
     "shell.execute_reply": "2024-05-13T16:19:49.005214Z"
    },
    "papermill": {
     "duration": 0.040735,
     "end_time": "2024-05-13T16:19:49.008231",
     "exception": false,
     "start_time": "2024-05-13T16:19:48.967496",
     "status": "completed"
    },
    "tags": []
   },
   "outputs": [],
   "source": [
    "# inputs = torch.randn(1, 3, 224, 224).to(device)  # (batch_size, channels, height, width)\n",
    "# features = model.forward_features(inputs)\n",
    "\n",
    "\n",
    "# # Print the shape of the extracted features\n",
    "# print(\"Shape of extracted features:\", features.shape)\n",
    "# print(\"Extracted features:\")\n",
    "# print(features)"
   ]
  }
 ],
 "metadata": {
  "kaggle": {
   "accelerator": "gpu",
   "dataSources": [
    {
     "datasetId": 672377,
     "sourceId": 1183165,
     "sourceType": "datasetVersion"
    },
    {
     "datasetId": 3226957,
     "sourceId": 5610519,
     "sourceType": "datasetVersion"
    },
    {
     "datasetId": 4522260,
     "sourceId": 7737680,
     "sourceType": "datasetVersion"
    },
    {
     "datasetId": 4672226,
     "sourceId": 7945946,
     "sourceType": "datasetVersion"
    },
    {
     "datasetId": 4816610,
     "sourceId": 8145382,
     "sourceType": "datasetVersion"
    },
    {
     "datasetId": 4957451,
     "sourceId": 8345493,
     "sourceType": "datasetVersion"
    }
   ],
   "dockerImageVersionId": 30380,
   "isGpuEnabled": true,
   "isInternetEnabled": true,
   "language": "python",
   "sourceType": "notebook"
  },
  "kernelspec": {
   "display_name": "Python 3",
   "language": "python",
   "name": "python3"
  },
  "language_info": {
   "codemirror_mode": {
    "name": "ipython",
    "version": 3
   },
   "file_extension": ".py",
   "mimetype": "text/x-python",
   "name": "python",
   "nbconvert_exporter": "python",
   "pygments_lexer": "ipython3",
   "version": "3.7.12"
  },
  "papermill": {
   "default_parameters": {},
   "duration": 357.677317,
   "end_time": "2024-05-13T16:19:51.578912",
   "environment_variables": {},
   "exception": null,
   "input_path": "__notebook__.ipynb",
   "output_path": "__notebook__.ipynb",
   "parameters": {},
   "start_time": "2024-05-13T16:13:53.901595",
   "version": "2.3.4"
  },
  "widgets": {
   "application/vnd.jupyter.widget-state+json": {
    "state": {
     "053fffe9c28b4e4684796ea3611927ed": {
      "model_module": "@jupyter-widgets/base",
      "model_module_version": "1.2.0",
      "model_name": "LayoutModel",
      "state": {
       "_model_module": "@jupyter-widgets/base",
       "_model_module_version": "1.2.0",
       "_model_name": "LayoutModel",
       "_view_count": null,
       "_view_module": "@jupyter-widgets/base",
       "_view_module_version": "1.2.0",
       "_view_name": "LayoutView",
       "align_content": null,
       "align_items": null,
       "align_self": null,
       "border": null,
       "bottom": null,
       "display": null,
       "flex": null,
       "flex_flow": null,
       "grid_area": null,
       "grid_auto_columns": null,
       "grid_auto_flow": null,
       "grid_auto_rows": null,
       "grid_column": null,
       "grid_gap": null,
       "grid_row": null,
       "grid_template_areas": null,
       "grid_template_columns": null,
       "grid_template_rows": null,
       "height": null,
       "justify_content": null,
       "justify_items": null,
       "left": null,
       "margin": null,
       "max_height": null,
       "max_width": null,
       "min_height": null,
       "min_width": null,
       "object_fit": null,
       "object_position": null,
       "order": null,
       "overflow": null,
       "overflow_x": null,
       "overflow_y": null,
       "padding": null,
       "right": null,
       "top": null,
       "visibility": null,
       "width": null
      }
     },
     "122ef16735df46d28805d2fe5956f9c7": {
      "model_module": "@jupyter-widgets/controls",
      "model_module_version": "1.5.0",
      "model_name": "ProgressStyleModel",
      "state": {
       "_model_module": "@jupyter-widgets/controls",
       "_model_module_version": "1.5.0",
       "_model_name": "ProgressStyleModel",
       "_view_count": null,
       "_view_module": "@jupyter-widgets/base",
       "_view_module_version": "1.2.0",
       "_view_name": "StyleView",
       "bar_color": null,
       "description_width": ""
      }
     },
     "1dda03ba2b084d20a53dd34afd3463f1": {
      "model_module": "@jupyter-widgets/controls",
      "model_module_version": "1.5.0",
      "model_name": "ProgressStyleModel",
      "state": {
       "_model_module": "@jupyter-widgets/controls",
       "_model_module_version": "1.5.0",
       "_model_name": "ProgressStyleModel",
       "_view_count": null,
       "_view_module": "@jupyter-widgets/base",
       "_view_module_version": "1.2.0",
       "_view_name": "StyleView",
       "bar_color": null,
       "description_width": ""
      }
     },
     "234b890ba46245f6bd1491d0035e87df": {
      "model_module": "@jupyter-widgets/base",
      "model_module_version": "1.2.0",
      "model_name": "LayoutModel",
      "state": {
       "_model_module": "@jupyter-widgets/base",
       "_model_module_version": "1.2.0",
       "_model_name": "LayoutModel",
       "_view_count": null,
       "_view_module": "@jupyter-widgets/base",
       "_view_module_version": "1.2.0",
       "_view_name": "LayoutView",
       "align_content": null,
       "align_items": null,
       "align_self": null,
       "border": null,
       "bottom": null,
       "display": null,
       "flex": null,
       "flex_flow": null,
       "grid_area": null,
       "grid_auto_columns": null,
       "grid_auto_flow": null,
       "grid_auto_rows": null,
       "grid_column": null,
       "grid_gap": null,
       "grid_row": null,
       "grid_template_areas": null,
       "grid_template_columns": null,
       "grid_template_rows": null,
       "height": null,
       "justify_content": null,
       "justify_items": null,
       "left": null,
       "margin": null,
       "max_height": null,
       "max_width": null,
       "min_height": null,
       "min_width": null,
       "object_fit": null,
       "object_position": null,
       "order": null,
       "overflow": null,
       "overflow_x": null,
       "overflow_y": null,
       "padding": null,
       "right": null,
       "top": null,
       "visibility": null,
       "width": null
      }
     },
     "242c300997a7476b81cf8190ee5a3d75": {
      "model_module": "@jupyter-widgets/base",
      "model_module_version": "1.2.0",
      "model_name": "LayoutModel",
      "state": {
       "_model_module": "@jupyter-widgets/base",
       "_model_module_version": "1.2.0",
       "_model_name": "LayoutModel",
       "_view_count": null,
       "_view_module": "@jupyter-widgets/base",
       "_view_module_version": "1.2.0",
       "_view_name": "LayoutView",
       "align_content": null,
       "align_items": null,
       "align_self": null,
       "border": null,
       "bottom": null,
       "display": null,
       "flex": null,
       "flex_flow": null,
       "grid_area": null,
       "grid_auto_columns": null,
       "grid_auto_flow": null,
       "grid_auto_rows": null,
       "grid_column": null,
       "grid_gap": null,
       "grid_row": null,
       "grid_template_areas": null,
       "grid_template_columns": null,
       "grid_template_rows": null,
       "height": null,
       "justify_content": null,
       "justify_items": null,
       "left": null,
       "margin": null,
       "max_height": null,
       "max_width": null,
       "min_height": null,
       "min_width": null,
       "object_fit": null,
       "object_position": null,
       "order": null,
       "overflow": null,
       "overflow_x": null,
       "overflow_y": null,
       "padding": null,
       "right": null,
       "top": null,
       "visibility": null,
       "width": null
      }
     },
     "27d763d5c0b643a48ca15f28a14054dc": {
      "model_module": "@jupyter-widgets/controls",
      "model_module_version": "1.5.0",
      "model_name": "HBoxModel",
      "state": {
       "_dom_classes": [],
       "_model_module": "@jupyter-widgets/controls",
       "_model_module_version": "1.5.0",
       "_model_name": "HBoxModel",
       "_view_count": null,
       "_view_module": "@jupyter-widgets/controls",
       "_view_module_version": "1.5.0",
       "_view_name": "HBoxView",
       "box_style": "",
       "children": [
        "IPY_MODEL_b288e485f88c4555b0d9e9b07e5251bb",
        "IPY_MODEL_7b77249966af446fba26cf37bd08e798",
        "IPY_MODEL_36d1277c94a045568b26cd237f6c90a9"
       ],
       "layout": "IPY_MODEL_94609b5627674172a77e1a94394c3904"
      }
     },
     "36d1277c94a045568b26cd237f6c90a9": {
      "model_module": "@jupyter-widgets/controls",
      "model_module_version": "1.5.0",
      "model_name": "HTMLModel",
      "state": {
       "_dom_classes": [],
       "_model_module": "@jupyter-widgets/controls",
       "_model_module_version": "1.5.0",
       "_model_name": "HTMLModel",
       "_view_count": null,
       "_view_module": "@jupyter-widgets/controls",
       "_view_module_version": "1.5.0",
       "_view_name": "HTMLView",
       "description": "",
       "description_tooltip": null,
       "layout": "IPY_MODEL_41eac6aab63a43eb93c800d96637bd52",
       "placeholder": "​",
       "style": "IPY_MODEL_9e2f28488be14f6f90baeb87478d3389",
       "value": " 528M/528M [00:02&lt;00:00, 216MB/s]"
      }
     },
     "41eac6aab63a43eb93c800d96637bd52": {
      "model_module": "@jupyter-widgets/base",
      "model_module_version": "1.2.0",
      "model_name": "LayoutModel",
      "state": {
       "_model_module": "@jupyter-widgets/base",
       "_model_module_version": "1.2.0",
       "_model_name": "LayoutModel",
       "_view_count": null,
       "_view_module": "@jupyter-widgets/base",
       "_view_module_version": "1.2.0",
       "_view_name": "LayoutView",
       "align_content": null,
       "align_items": null,
       "align_self": null,
       "border": null,
       "bottom": null,
       "display": null,
       "flex": null,
       "flex_flow": null,
       "grid_area": null,
       "grid_auto_columns": null,
       "grid_auto_flow": null,
       "grid_auto_rows": null,
       "grid_column": null,
       "grid_gap": null,
       "grid_row": null,
       "grid_template_areas": null,
       "grid_template_columns": null,
       "grid_template_rows": null,
       "height": null,
       "justify_content": null,
       "justify_items": null,
       "left": null,
       "margin": null,
       "max_height": null,
       "max_width": null,
       "min_height": null,
       "min_width": null,
       "object_fit": null,
       "object_position": null,
       "order": null,
       "overflow": null,
       "overflow_x": null,
       "overflow_y": null,
       "padding": null,
       "right": null,
       "top": null,
       "visibility": null,
       "width": null
      }
     },
     "4e8c5db9e78e490daa271a548e3405a1": {
      "model_module": "@jupyter-widgets/controls",
      "model_module_version": "1.5.0",
      "model_name": "DescriptionStyleModel",
      "state": {
       "_model_module": "@jupyter-widgets/controls",
       "_model_module_version": "1.5.0",
       "_model_name": "DescriptionStyleModel",
       "_view_count": null,
       "_view_module": "@jupyter-widgets/base",
       "_view_module_version": "1.2.0",
       "_view_name": "StyleView",
       "description_width": ""
      }
     },
     "58c365da38604d7d9320ae6082c2d3f3": {
      "model_module": "@jupyter-widgets/base",
      "model_module_version": "1.2.0",
      "model_name": "LayoutModel",
      "state": {
       "_model_module": "@jupyter-widgets/base",
       "_model_module_version": "1.2.0",
       "_model_name": "LayoutModel",
       "_view_count": null,
       "_view_module": "@jupyter-widgets/base",
       "_view_module_version": "1.2.0",
       "_view_name": "LayoutView",
       "align_content": null,
       "align_items": null,
       "align_self": null,
       "border": null,
       "bottom": null,
       "display": null,
       "flex": null,
       "flex_flow": null,
       "grid_area": null,
       "grid_auto_columns": null,
       "grid_auto_flow": null,
       "grid_auto_rows": null,
       "grid_column": null,
       "grid_gap": null,
       "grid_row": null,
       "grid_template_areas": null,
       "grid_template_columns": null,
       "grid_template_rows": null,
       "height": null,
       "justify_content": null,
       "justify_items": null,
       "left": null,
       "margin": null,
       "max_height": null,
       "max_width": null,
       "min_height": null,
       "min_width": null,
       "object_fit": null,
       "object_position": null,
       "order": null,
       "overflow": null,
       "overflow_x": null,
       "overflow_y": null,
       "padding": null,
       "right": null,
       "top": null,
       "visibility": null,
       "width": null
      }
     },
     "5ab36ad109614a7b8f70de9dd43c820a": {
      "model_module": "@jupyter-widgets/controls",
      "model_module_version": "1.5.0",
      "model_name": "HBoxModel",
      "state": {
       "_dom_classes": [],
       "_model_module": "@jupyter-widgets/controls",
       "_model_module_version": "1.5.0",
       "_model_name": "HBoxModel",
       "_view_count": null,
       "_view_module": "@jupyter-widgets/controls",
       "_view_module_version": "1.5.0",
       "_view_name": "HBoxView",
       "box_style": "",
       "children": [
        "IPY_MODEL_860f11cd530b4feb840a9add14011045",
        "IPY_MODEL_775d3d06b36f4e4f913d5f80ccd9a1f1",
        "IPY_MODEL_b8562b14699940889a7ff829845de547"
       ],
       "layout": "IPY_MODEL_f882e2176ce046cc8277e4897ddb7a70"
      }
     },
     "775d3d06b36f4e4f913d5f80ccd9a1f1": {
      "model_module": "@jupyter-widgets/controls",
      "model_module_version": "1.5.0",
      "model_name": "FloatProgressModel",
      "state": {
       "_dom_classes": [],
       "_model_module": "@jupyter-widgets/controls",
       "_model_module_version": "1.5.0",
       "_model_name": "FloatProgressModel",
       "_view_count": null,
       "_view_module": "@jupyter-widgets/controls",
       "_view_module_version": "1.5.0",
       "_view_name": "ProgressView",
       "bar_style": "success",
       "description": "",
       "description_tooltip": null,
       "layout": "IPY_MODEL_d8c6d7c0a3c04805aa976cacaf7d6511",
       "max": 32342954.0,
       "min": 0.0,
       "orientation": "horizontal",
       "style": "IPY_MODEL_daadd16d08034fe38205bdbb45764742",
       "value": 32342954.0
      }
     },
     "7b77249966af446fba26cf37bd08e798": {
      "model_module": "@jupyter-widgets/controls",
      "model_module_version": "1.5.0",
      "model_name": "FloatProgressModel",
      "state": {
       "_dom_classes": [],
       "_model_module": "@jupyter-widgets/controls",
       "_model_module_version": "1.5.0",
       "_model_name": "FloatProgressModel",
       "_view_count": null,
       "_view_module": "@jupyter-widgets/controls",
       "_view_module_version": "1.5.0",
       "_view_name": "ProgressView",
       "bar_style": "success",
       "description": "",
       "description_tooltip": null,
       "layout": "IPY_MODEL_053fffe9c28b4e4684796ea3611927ed",
       "max": 553433881.0,
       "min": 0.0,
       "orientation": "horizontal",
       "style": "IPY_MODEL_122ef16735df46d28805d2fe5956f9c7",
       "value": 553433881.0
      }
     },
     "7cc5c6e761554eefbaec1772b615722d": {
      "model_module": "@jupyter-widgets/controls",
      "model_module_version": "1.5.0",
      "model_name": "HTMLModel",
      "state": {
       "_dom_classes": [],
       "_model_module": "@jupyter-widgets/controls",
       "_model_module_version": "1.5.0",
       "_model_name": "HTMLModel",
       "_view_count": null,
       "_view_module": "@jupyter-widgets/controls",
       "_view_module_version": "1.5.0",
       "_view_name": "HTMLView",
       "description": "",
       "description_tooltip": null,
       "layout": "IPY_MODEL_234b890ba46245f6bd1491d0035e87df",
       "placeholder": "​",
       "style": "IPY_MODEL_81284bcd39cd4f37be6e8a9c4f0e72ca",
       "value": "100%"
      }
     },
     "81284bcd39cd4f37be6e8a9c4f0e72ca": {
      "model_module": "@jupyter-widgets/controls",
      "model_module_version": "1.5.0",
      "model_name": "DescriptionStyleModel",
      "state": {
       "_model_module": "@jupyter-widgets/controls",
       "_model_module_version": "1.5.0",
       "_model_name": "DescriptionStyleModel",
       "_view_count": null,
       "_view_module": "@jupyter-widgets/base",
       "_view_module_version": "1.2.0",
       "_view_name": "StyleView",
       "description_width": ""
      }
     },
     "860f11cd530b4feb840a9add14011045": {
      "model_module": "@jupyter-widgets/controls",
      "model_module_version": "1.5.0",
      "model_name": "HTMLModel",
      "state": {
       "_dom_classes": [],
       "_model_module": "@jupyter-widgets/controls",
       "_model_module_version": "1.5.0",
       "_model_name": "HTMLModel",
       "_view_count": null,
       "_view_module": "@jupyter-widgets/controls",
       "_view_module_version": "1.5.0",
       "_view_name": "HTMLView",
       "description": "",
       "description_tooltip": null,
       "layout": "IPY_MODEL_ffdf9c362c974cf4a38ed7c11adaef12",
       "placeholder": "​",
       "style": "IPY_MODEL_4e8c5db9e78e490daa271a548e3405a1",
       "value": "100%"
      }
     },
     "94609b5627674172a77e1a94394c3904": {
      "model_module": "@jupyter-widgets/base",
      "model_module_version": "1.2.0",
      "model_name": "LayoutModel",
      "state": {
       "_model_module": "@jupyter-widgets/base",
       "_model_module_version": "1.2.0",
       "_model_name": "LayoutModel",
       "_view_count": null,
       "_view_module": "@jupyter-widgets/base",
       "_view_module_version": "1.2.0",
       "_view_name": "LayoutView",
       "align_content": null,
       "align_items": null,
       "align_self": null,
       "border": null,
       "bottom": null,
       "display": null,
       "flex": null,
       "flex_flow": null,
       "grid_area": null,
       "grid_auto_columns": null,
       "grid_auto_flow": null,
       "grid_auto_rows": null,
       "grid_column": null,
       "grid_gap": null,
       "grid_row": null,
       "grid_template_areas": null,
       "grid_template_columns": null,
       "grid_template_rows": null,
       "height": null,
       "justify_content": null,
       "justify_items": null,
       "left": null,
       "margin": null,
       "max_height": null,
       "max_width": null,
       "min_height": null,
       "min_width": null,
       "object_fit": null,
       "object_position": null,
       "order": null,
       "overflow": null,
       "overflow_x": null,
       "overflow_y": null,
       "padding": null,
       "right": null,
       "top": null,
       "visibility": null,
       "width": null
      }
     },
     "94da0a3178b64abba374707a7cda2fb9": {
      "model_module": "@jupyter-widgets/base",
      "model_module_version": "1.2.0",
      "model_name": "LayoutModel",
      "state": {
       "_model_module": "@jupyter-widgets/base",
       "_model_module_version": "1.2.0",
       "_model_name": "LayoutModel",
       "_view_count": null,
       "_view_module": "@jupyter-widgets/base",
       "_view_module_version": "1.2.0",
       "_view_name": "LayoutView",
       "align_content": null,
       "align_items": null,
       "align_self": null,
       "border": null,
       "bottom": null,
       "display": null,
       "flex": null,
       "flex_flow": null,
       "grid_area": null,
       "grid_auto_columns": null,
       "grid_auto_flow": null,
       "grid_auto_rows": null,
       "grid_column": null,
       "grid_gap": null,
       "grid_row": null,
       "grid_template_areas": null,
       "grid_template_columns": null,
       "grid_template_rows": null,
       "height": null,
       "justify_content": null,
       "justify_items": null,
       "left": null,
       "margin": null,
       "max_height": null,
       "max_width": null,
       "min_height": null,
       "min_width": null,
       "object_fit": null,
       "object_position": null,
       "order": null,
       "overflow": null,
       "overflow_x": null,
       "overflow_y": null,
       "padding": null,
       "right": null,
       "top": null,
       "visibility": null,
       "width": null
      }
     },
     "98421d45597c4aea9b82d285a75a6e66": {
      "model_module": "@jupyter-widgets/controls",
      "model_module_version": "1.5.0",
      "model_name": "DescriptionStyleModel",
      "state": {
       "_model_module": "@jupyter-widgets/controls",
       "_model_module_version": "1.5.0",
       "_model_name": "DescriptionStyleModel",
       "_view_count": null,
       "_view_module": "@jupyter-widgets/base",
       "_view_module_version": "1.2.0",
       "_view_name": "StyleView",
       "description_width": ""
      }
     },
     "9bedef60d6734c859a904d5980abc7cc": {
      "model_module": "@jupyter-widgets/controls",
      "model_module_version": "1.5.0",
      "model_name": "DescriptionStyleModel",
      "state": {
       "_model_module": "@jupyter-widgets/controls",
       "_model_module_version": "1.5.0",
       "_model_name": "DescriptionStyleModel",
       "_view_count": null,
       "_view_module": "@jupyter-widgets/base",
       "_view_module_version": "1.2.0",
       "_view_name": "StyleView",
       "description_width": ""
      }
     },
     "9e2f28488be14f6f90baeb87478d3389": {
      "model_module": "@jupyter-widgets/controls",
      "model_module_version": "1.5.0",
      "model_name": "DescriptionStyleModel",
      "state": {
       "_model_module": "@jupyter-widgets/controls",
       "_model_module_version": "1.5.0",
       "_model_name": "DescriptionStyleModel",
       "_view_count": null,
       "_view_module": "@jupyter-widgets/base",
       "_view_module_version": "1.2.0",
       "_view_name": "StyleView",
       "description_width": ""
      }
     },
     "af8e62db15c84676801974e147fec105": {
      "model_module": "@jupyter-widgets/base",
      "model_module_version": "1.2.0",
      "model_name": "LayoutModel",
      "state": {
       "_model_module": "@jupyter-widgets/base",
       "_model_module_version": "1.2.0",
       "_model_name": "LayoutModel",
       "_view_count": null,
       "_view_module": "@jupyter-widgets/base",
       "_view_module_version": "1.2.0",
       "_view_name": "LayoutView",
       "align_content": null,
       "align_items": null,
       "align_self": null,
       "border": null,
       "bottom": null,
       "display": null,
       "flex": null,
       "flex_flow": null,
       "grid_area": null,
       "grid_auto_columns": null,
       "grid_auto_flow": null,
       "grid_auto_rows": null,
       "grid_column": null,
       "grid_gap": null,
       "grid_row": null,
       "grid_template_areas": null,
       "grid_template_columns": null,
       "grid_template_rows": null,
       "height": null,
       "justify_content": null,
       "justify_items": null,
       "left": null,
       "margin": null,
       "max_height": null,
       "max_width": null,
       "min_height": null,
       "min_width": null,
       "object_fit": null,
       "object_position": null,
       "order": null,
       "overflow": null,
       "overflow_x": null,
       "overflow_y": null,
       "padding": null,
       "right": null,
       "top": null,
       "visibility": null,
       "width": null
      }
     },
     "b288e485f88c4555b0d9e9b07e5251bb": {
      "model_module": "@jupyter-widgets/controls",
      "model_module_version": "1.5.0",
      "model_name": "HTMLModel",
      "state": {
       "_dom_classes": [],
       "_model_module": "@jupyter-widgets/controls",
       "_model_module_version": "1.5.0",
       "_model_name": "HTMLModel",
       "_view_count": null,
       "_view_module": "@jupyter-widgets/controls",
       "_view_module_version": "1.5.0",
       "_view_name": "HTMLView",
       "description": "",
       "description_tooltip": null,
       "layout": "IPY_MODEL_242c300997a7476b81cf8190ee5a3d75",
       "placeholder": "​",
       "style": "IPY_MODEL_9bedef60d6734c859a904d5980abc7cc",
       "value": "100%"
      }
     },
     "b8562b14699940889a7ff829845de547": {
      "model_module": "@jupyter-widgets/controls",
      "model_module_version": "1.5.0",
      "model_name": "HTMLModel",
      "state": {
       "_dom_classes": [],
       "_model_module": "@jupyter-widgets/controls",
       "_model_module_version": "1.5.0",
       "_model_name": "HTMLModel",
       "_view_count": null,
       "_view_module": "@jupyter-widgets/controls",
       "_view_module_version": "1.5.0",
       "_view_name": "HTMLView",
       "description": "",
       "description_tooltip": null,
       "layout": "IPY_MODEL_fd3d1650db83430c8605d1fe5999851b",
       "placeholder": "​",
       "style": "IPY_MODEL_98421d45597c4aea9b82d285a75a6e66",
       "value": " 30.8M/30.8M [00:00&lt;00:00, 69.8MB/s]"
      }
     },
     "c2fb5bc6a4aa4ce28349ee67cdff4344": {
      "model_module": "@jupyter-widgets/controls",
      "model_module_version": "1.5.0",
      "model_name": "FloatProgressModel",
      "state": {
       "_dom_classes": [],
       "_model_module": "@jupyter-widgets/controls",
       "_model_module_version": "1.5.0",
       "_model_name": "FloatProgressModel",
       "_view_count": null,
       "_view_module": "@jupyter-widgets/controls",
       "_view_module_version": "1.5.0",
       "_view_name": "ProgressView",
       "bar_style": "success",
       "description": "",
       "description_tooltip": null,
       "layout": "IPY_MODEL_94da0a3178b64abba374707a7cda2fb9",
       "max": 46830571.0,
       "min": 0.0,
       "orientation": "horizontal",
       "style": "IPY_MODEL_1dda03ba2b084d20a53dd34afd3463f1",
       "value": 46830571.0
      }
     },
     "cdb07deecbf446c3b78ff2b66b6e540a": {
      "model_module": "@jupyter-widgets/controls",
      "model_module_version": "1.5.0",
      "model_name": "HTMLModel",
      "state": {
       "_dom_classes": [],
       "_model_module": "@jupyter-widgets/controls",
       "_model_module_version": "1.5.0",
       "_model_name": "HTMLModel",
       "_view_count": null,
       "_view_module": "@jupyter-widgets/controls",
       "_view_module_version": "1.5.0",
       "_view_name": "HTMLView",
       "description": "",
       "description_tooltip": null,
       "layout": "IPY_MODEL_af8e62db15c84676801974e147fec105",
       "placeholder": "​",
       "style": "IPY_MODEL_e20aece2ec2c442bb89f632c2f117556",
       "value": " 44.7M/44.7M [00:00&lt;00:00, 106MB/s]"
      }
     },
     "d1279842816a436d90cd692af508f2c9": {
      "model_module": "@jupyter-widgets/controls",
      "model_module_version": "1.5.0",
      "model_name": "HBoxModel",
      "state": {
       "_dom_classes": [],
       "_model_module": "@jupyter-widgets/controls",
       "_model_module_version": "1.5.0",
       "_model_name": "HBoxModel",
       "_view_count": null,
       "_view_module": "@jupyter-widgets/controls",
       "_view_module_version": "1.5.0",
       "_view_name": "HBoxView",
       "box_style": "",
       "children": [
        "IPY_MODEL_7cc5c6e761554eefbaec1772b615722d",
        "IPY_MODEL_c2fb5bc6a4aa4ce28349ee67cdff4344",
        "IPY_MODEL_cdb07deecbf446c3b78ff2b66b6e540a"
       ],
       "layout": "IPY_MODEL_58c365da38604d7d9320ae6082c2d3f3"
      }
     },
     "d8c6d7c0a3c04805aa976cacaf7d6511": {
      "model_module": "@jupyter-widgets/base",
      "model_module_version": "1.2.0",
      "model_name": "LayoutModel",
      "state": {
       "_model_module": "@jupyter-widgets/base",
       "_model_module_version": "1.2.0",
       "_model_name": "LayoutModel",
       "_view_count": null,
       "_view_module": "@jupyter-widgets/base",
       "_view_module_version": "1.2.0",
       "_view_name": "LayoutView",
       "align_content": null,
       "align_items": null,
       "align_self": null,
       "border": null,
       "bottom": null,
       "display": null,
       "flex": null,
       "flex_flow": null,
       "grid_area": null,
       "grid_auto_columns": null,
       "grid_auto_flow": null,
       "grid_auto_rows": null,
       "grid_column": null,
       "grid_gap": null,
       "grid_row": null,
       "grid_template_areas": null,
       "grid_template_columns": null,
       "grid_template_rows": null,
       "height": null,
       "justify_content": null,
       "justify_items": null,
       "left": null,
       "margin": null,
       "max_height": null,
       "max_width": null,
       "min_height": null,
       "min_width": null,
       "object_fit": null,
       "object_position": null,
       "order": null,
       "overflow": null,
       "overflow_x": null,
       "overflow_y": null,
       "padding": null,
       "right": null,
       "top": null,
       "visibility": null,
       "width": null
      }
     },
     "daadd16d08034fe38205bdbb45764742": {
      "model_module": "@jupyter-widgets/controls",
      "model_module_version": "1.5.0",
      "model_name": "ProgressStyleModel",
      "state": {
       "_model_module": "@jupyter-widgets/controls",
       "_model_module_version": "1.5.0",
       "_model_name": "ProgressStyleModel",
       "_view_count": null,
       "_view_module": "@jupyter-widgets/base",
       "_view_module_version": "1.2.0",
       "_view_name": "StyleView",
       "bar_color": null,
       "description_width": ""
      }
     },
     "e20aece2ec2c442bb89f632c2f117556": {
      "model_module": "@jupyter-widgets/controls",
      "model_module_version": "1.5.0",
      "model_name": "DescriptionStyleModel",
      "state": {
       "_model_module": "@jupyter-widgets/controls",
       "_model_module_version": "1.5.0",
       "_model_name": "DescriptionStyleModel",
       "_view_count": null,
       "_view_module": "@jupyter-widgets/base",
       "_view_module_version": "1.2.0",
       "_view_name": "StyleView",
       "description_width": ""
      }
     },
     "f882e2176ce046cc8277e4897ddb7a70": {
      "model_module": "@jupyter-widgets/base",
      "model_module_version": "1.2.0",
      "model_name": "LayoutModel",
      "state": {
       "_model_module": "@jupyter-widgets/base",
       "_model_module_version": "1.2.0",
       "_model_name": "LayoutModel",
       "_view_count": null,
       "_view_module": "@jupyter-widgets/base",
       "_view_module_version": "1.2.0",
       "_view_name": "LayoutView",
       "align_content": null,
       "align_items": null,
       "align_self": null,
       "border": null,
       "bottom": null,
       "display": null,
       "flex": null,
       "flex_flow": null,
       "grid_area": null,
       "grid_auto_columns": null,
       "grid_auto_flow": null,
       "grid_auto_rows": null,
       "grid_column": null,
       "grid_gap": null,
       "grid_row": null,
       "grid_template_areas": null,
       "grid_template_columns": null,
       "grid_template_rows": null,
       "height": null,
       "justify_content": null,
       "justify_items": null,
       "left": null,
       "margin": null,
       "max_height": null,
       "max_width": null,
       "min_height": null,
       "min_width": null,
       "object_fit": null,
       "object_position": null,
       "order": null,
       "overflow": null,
       "overflow_x": null,
       "overflow_y": null,
       "padding": null,
       "right": null,
       "top": null,
       "visibility": null,
       "width": null
      }
     },
     "fd3d1650db83430c8605d1fe5999851b": {
      "model_module": "@jupyter-widgets/base",
      "model_module_version": "1.2.0",
      "model_name": "LayoutModel",
      "state": {
       "_model_module": "@jupyter-widgets/base",
       "_model_module_version": "1.2.0",
       "_model_name": "LayoutModel",
       "_view_count": null,
       "_view_module": "@jupyter-widgets/base",
       "_view_module_version": "1.2.0",
       "_view_name": "LayoutView",
       "align_content": null,
       "align_items": null,
       "align_self": null,
       "border": null,
       "bottom": null,
       "display": null,
       "flex": null,
       "flex_flow": null,
       "grid_area": null,
       "grid_auto_columns": null,
       "grid_auto_flow": null,
       "grid_auto_rows": null,
       "grid_column": null,
       "grid_gap": null,
       "grid_row": null,
       "grid_template_areas": null,
       "grid_template_columns": null,
       "grid_template_rows": null,
       "height": null,
       "justify_content": null,
       "justify_items": null,
       "left": null,
       "margin": null,
       "max_height": null,
       "max_width": null,
       "min_height": null,
       "min_width": null,
       "object_fit": null,
       "object_position": null,
       "order": null,
       "overflow": null,
       "overflow_x": null,
       "overflow_y": null,
       "padding": null,
       "right": null,
       "top": null,
       "visibility": null,
       "width": null
      }
     },
     "ffdf9c362c974cf4a38ed7c11adaef12": {
      "model_module": "@jupyter-widgets/base",
      "model_module_version": "1.2.0",
      "model_name": "LayoutModel",
      "state": {
       "_model_module": "@jupyter-widgets/base",
       "_model_module_version": "1.2.0",
       "_model_name": "LayoutModel",
       "_view_count": null,
       "_view_module": "@jupyter-widgets/base",
       "_view_module_version": "1.2.0",
       "_view_name": "LayoutView",
       "align_content": null,
       "align_items": null,
       "align_self": null,
       "border": null,
       "bottom": null,
       "display": null,
       "flex": null,
       "flex_flow": null,
       "grid_area": null,
       "grid_auto_columns": null,
       "grid_auto_flow": null,
       "grid_auto_rows": null,
       "grid_column": null,
       "grid_gap": null,
       "grid_row": null,
       "grid_template_areas": null,
       "grid_template_columns": null,
       "grid_template_rows": null,
       "height": null,
       "justify_content": null,
       "justify_items": null,
       "left": null,
       "margin": null,
       "max_height": null,
       "max_width": null,
       "min_height": null,
       "min_width": null,
       "object_fit": null,
       "object_position": null,
       "order": null,
       "overflow": null,
       "overflow_x": null,
       "overflow_y": null,
       "padding": null,
       "right": null,
       "top": null,
       "visibility": null,
       "width": null
      }
     }
    },
    "version_major": 2,
    "version_minor": 0
   }
  }
 },
 "nbformat": 4,
 "nbformat_minor": 5
}
