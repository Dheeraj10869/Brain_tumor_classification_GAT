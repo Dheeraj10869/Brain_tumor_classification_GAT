{
 "cells": [
  {
   "cell_type": "code",
   "execution_count": 13,
   "id": "2c886c75",
   "metadata": {},
   "outputs": [
    {
     "name": "stdout",
     "output_type": "stream",
     "text": [
      "[]\n",
      "0\n"
     ]
    }
   ],
   "source": [
    "import networkx as nx\n",
    "import matplotlib.pyplot as plt\n",
    "import matplotlib.image as mpimg\n",
    "import glob\n",
    "from numpy import sqrt\n",
    "import glob\n",
    "\n",
    "path = 'data_test'\n",
    "files = [f for f in glob.glob(path + \"*.jpg\")]\n",
    "print(files)\n",
    "img = []\n",
    "for f in files:\n",
    "    img.append(mpimg.imread(f))\n",
    "N = len(files)\n",
    "print(N)\n",
    " "
   ]
  },
  {
   "cell_type": "code",
   "execution_count": 11,
   "id": "b71e7fc4",
   "metadata": {},
   "outputs": [
    {
     "ename": "NetworkXError",
     "evalue": "k>n, choose smaller k or larger n",
     "output_type": "error",
     "traceback": [
      "\u001b[1;31m---------------------------------------------------------------------------\u001b[0m",
      "\u001b[1;31mNetworkXError\u001b[0m                             Traceback (most recent call last)",
      "Cell \u001b[1;32mIn [11], line 2\u001b[0m\n\u001b[0;32m      1\u001b[0m \u001b[38;5;66;03m# generate graph\u001b[39;00m\n\u001b[1;32m----> 2\u001b[0m G \u001b[38;5;241m=\u001b[39m \u001b[43mnx\u001b[49m\u001b[38;5;241;43m.\u001b[39;49m\u001b[43mwatts_strogatz_graph\u001b[49m\u001b[43m(\u001b[49m\u001b[43mN\u001b[49m\u001b[43m,\u001b[49m\u001b[38;5;241;43m4\u001b[39;49m\u001b[43m,\u001b[49m\u001b[38;5;241;43m0.2\u001b[39;49m\u001b[43m)\u001b[49m\n\u001b[0;32m      3\u001b[0m pos\u001b[38;5;241m=\u001b[39mnx\u001b[38;5;241m.\u001b[39mspring_layout(G,k\u001b[38;5;241m=\u001b[39m\u001b[38;5;241m3\u001b[39m\u001b[38;5;241m/\u001b[39msqrt(N))\n\u001b[0;32m      5\u001b[0m \u001b[38;5;66;03m# draw with images on nodes\u001b[39;00m\n",
      "File \u001b[1;32m<class 'networkx.utils.decorators.argmap'> compilation 4:4\u001b[0m, in \u001b[0;36margmap_watts_strogatz_graph_1\u001b[1;34m(n, k, p, seed)\u001b[0m\n\u001b[0;32m      2\u001b[0m \u001b[38;5;28;01mfrom\u001b[39;00m \u001b[38;5;21;01mos\u001b[39;00m\u001b[38;5;21;01m.\u001b[39;00m\u001b[38;5;21;01mpath\u001b[39;00m \u001b[38;5;28;01mimport\u001b[39;00m splitext\n\u001b[0;32m      3\u001b[0m \u001b[38;5;28;01mfrom\u001b[39;00m \u001b[38;5;21;01mcontextlib\u001b[39;00m \u001b[38;5;28;01mimport\u001b[39;00m contextmanager\n\u001b[1;32m----> 4\u001b[0m \u001b[38;5;28;01mfrom\u001b[39;00m \u001b[38;5;21;01mpathlib\u001b[39;00m \u001b[38;5;28;01mimport\u001b[39;00m Path\n\u001b[0;32m      6\u001b[0m \u001b[38;5;28;01mimport\u001b[39;00m \u001b[38;5;21;01mnetworkx\u001b[39;00m \u001b[38;5;28;01mas\u001b[39;00m \u001b[38;5;21;01mnx\u001b[39;00m\n\u001b[0;32m      7\u001b[0m \u001b[38;5;28;01mfrom\u001b[39;00m \u001b[38;5;21;01mnetworkx\u001b[39;00m\u001b[38;5;21;01m.\u001b[39;00m\u001b[38;5;21;01mutils\u001b[39;00m \u001b[38;5;28;01mimport\u001b[39;00m create_random_state, create_py_random_state\n",
      "File \u001b[1;32m~\\anaconda3\\lib\\site-packages\\networkx\\generators\\random_graphs.py:402\u001b[0m, in \u001b[0;36mwatts_strogatz_graph\u001b[1;34m(n, k, p, seed)\u001b[0m\n\u001b[0;32m    362\u001b[0m \u001b[38;5;124;03m\"\"\"Returns a Watts–Strogatz small-world graph.\u001b[39;00m\n\u001b[0;32m    363\u001b[0m \n\u001b[0;32m    364\u001b[0m \u001b[38;5;124;03mParameters\u001b[39;00m\n\u001b[1;32m   (...)\u001b[0m\n\u001b[0;32m    399\u001b[0m \u001b[38;5;124;03m   Nature, 393, pp. 440--442, 1998.\u001b[39;00m\n\u001b[0;32m    400\u001b[0m \u001b[38;5;124;03m\"\"\"\u001b[39;00m\n\u001b[0;32m    401\u001b[0m \u001b[38;5;28;01mif\u001b[39;00m k \u001b[38;5;241m>\u001b[39m n:\n\u001b[1;32m--> 402\u001b[0m     \u001b[38;5;28;01mraise\u001b[39;00m nx\u001b[38;5;241m.\u001b[39mNetworkXError(\u001b[38;5;124m\"\u001b[39m\u001b[38;5;124mk>n, choose smaller k or larger n\u001b[39m\u001b[38;5;124m\"\u001b[39m)\n\u001b[0;32m    404\u001b[0m \u001b[38;5;66;03m# If k == n, the graph is complete not Watts-Strogatz\u001b[39;00m\n\u001b[0;32m    405\u001b[0m \u001b[38;5;28;01mif\u001b[39;00m k \u001b[38;5;241m==\u001b[39m n:\n",
      "\u001b[1;31mNetworkXError\u001b[0m: k>n, choose smaller k or larger n"
     ]
    }
   ],
   "source": [
    "# generate graph\n",
    "G = nx.watts_strogatz_graph(N,4,0.2)\n",
    "pos=nx.spring_layout(G,k=3/sqrt(N))\n",
    "\n",
    "# draw with images on nodes\n",
    "nx.draw_networkx(G,pos,width=3,edge_color=\"r\",alpha=0.6)\n",
    "ax=plt.gca()\n",
    "fig=plt.gcf()\n",
    "trans = ax.transData.transform\n",
    "trans2 = fig.transFigure.inverted().transform\n",
    "imsize = 0.1 # this is the image size\n",
    "for n in G.nodes():\n",
    "    (x,y) = pos[n]\n",
    "    xx,yy = trans((x,y)) # figure coordinates\n",
    "    xa,ya = trans2((xx,yy)) # axes coordinates\n",
    "    a = plt.axes([xa-imsize/2.0,ya-imsize/2.0, imsize, imsize ])\n",
    "    a.imshow(img[n])\n",
    "    a.set_aspect('equal')\n",
    "    a.axis('off')\n",
    "plt.savefig('./save.png')"
   ]
  },
  {
   "cell_type": "code",
   "execution_count": null,
   "id": "e4d436cb",
   "metadata": {},
   "outputs": [],
   "source": []
  }
 ],
 "metadata": {
  "kernelspec": {
   "display_name": "Python 3 (ipykernel)",
   "language": "python",
   "name": "python3"
  },
  "language_info": {
   "codemirror_mode": {
    "name": "ipython",
    "version": 3
   },
   "file_extension": ".py",
   "mimetype": "text/x-python",
   "name": "python",
   "nbconvert_exporter": "python",
   "pygments_lexer": "ipython3",
   "version": "3.9.12"
  }
 },
 "nbformat": 4,
 "nbformat_minor": 5
}
